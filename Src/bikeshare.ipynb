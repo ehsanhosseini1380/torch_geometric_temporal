{
 "cells": [
  {
   "cell_type": "code",
   "execution_count": 1,
   "metadata": {},
   "outputs": [],
   "source": [
    "import pandas as pd\n",
    "import numpy as np\n",
    "from datetime import datetime, timedelta\n",
    "import seaborn as sns\n",
    "from sklearn.utils.extmath import cartesian\n",
    "from geopy.distance import geodesic"
   ]
  },
  {
   "cell_type": "code",
   "execution_count": 2,
   "metadata": {},
   "outputs": [],
   "source": [
    "def preprocess_trips(trips_df):\n",
    "\n",
    "    trips_df.dropna(inplace=True)\n",
    "    \n",
    "    cols_to_drop = [\"bike_type\", \"passholder_type\", \"trip_route_category\", \"plan_duration\"]\n",
    "    trips_df.drop(cols_to_drop, axis=1, inplace=True) \n",
    "\n",
    "    locations = trips_df['start_station'].unique()\n",
    "    new_ids = list(range(len(locations)))\n",
    "    mapping = dict(zip(locations, new_ids))\n",
    "\n",
    "    trips_df['start_station'] = trips_df['start_station'].map(mapping)\n",
    "    trips_df['end_station'] = trips_df['end_station'].map(mapping)\n",
    "\n",
    "    trips_df[\"start_time\"] = pd.to_datetime(trips_df[\"start_time\"], format=\"%m/%d/%Y %H:%M\")\n",
    "    trips_df[\"end_time\"] = pd.to_datetime(trips_df[\"end_time\"], format=\"%m/%d/%Y %H:%M\")\n",
    "\n",
    "    trips_df = trips_df.sort_values(by=\"start_time\")\n",
    "    \n",
    "    return trips_df"
   ]
  },
  {
   "cell_type": "code",
   "execution_count": 3,
   "metadata": {},
   "outputs": [],
   "source": [
    "trips = pd.read_csv(\"../Data/bikeshare-data/bikeshare-test.csv\")\n",
    "#rips.head()"
   ]
  },
  {
   "cell_type": "code",
   "execution_count": 4,
   "metadata": {},
   "outputs": [
    {
     "data": {
      "text/html": [
       "<div>\n",
       "<style scoped>\n",
       "    .dataframe tbody tr th:only-of-type {\n",
       "        vertical-align: middle;\n",
       "    }\n",
       "\n",
       "    .dataframe tbody tr th {\n",
       "        vertical-align: top;\n",
       "    }\n",
       "\n",
       "    .dataframe thead th {\n",
       "        text-align: right;\n",
       "    }\n",
       "</style>\n",
       "<table border=\"1\" class=\"dataframe\">\n",
       "  <thead>\n",
       "    <tr style=\"text-align: right;\">\n",
       "      <th></th>\n",
       "      <th>trip_id</th>\n",
       "      <th>duration</th>\n",
       "      <th>start_time</th>\n",
       "      <th>end_time</th>\n",
       "      <th>start_station</th>\n",
       "      <th>start_lat</th>\n",
       "      <th>start_lon</th>\n",
       "      <th>end_station</th>\n",
       "      <th>end_lat</th>\n",
       "      <th>end_lon</th>\n",
       "      <th>bike_id</th>\n",
       "    </tr>\n",
       "  </thead>\n",
       "  <tbody>\n",
       "    <tr>\n",
       "      <th>0</th>\n",
       "      <td>249955060</td>\n",
       "      <td>41</td>\n",
       "      <td>2023-04-01 00:00:00</td>\n",
       "      <td>2023-04-01 00:41:00</td>\n",
       "      <td>0</td>\n",
       "      <td>34.072620</td>\n",
       "      <td>-118.449440</td>\n",
       "      <td>0.0</td>\n",
       "      <td>34.072620</td>\n",
       "      <td>-118.449440</td>\n",
       "      <td>22398</td>\n",
       "    </tr>\n",
       "    <tr>\n",
       "      <th>1</th>\n",
       "      <td>249954734</td>\n",
       "      <td>11</td>\n",
       "      <td>2023-04-01 00:00:00</td>\n",
       "      <td>2023-04-01 00:11:00</td>\n",
       "      <td>0</td>\n",
       "      <td>34.072620</td>\n",
       "      <td>-118.449440</td>\n",
       "      <td>7.0</td>\n",
       "      <td>34.069752</td>\n",
       "      <td>-118.445351</td>\n",
       "      <td>22304</td>\n",
       "    </tr>\n",
       "    <tr>\n",
       "      <th>2</th>\n",
       "      <td>249954667</td>\n",
       "      <td>2</td>\n",
       "      <td>2023-04-01 00:02:00</td>\n",
       "      <td>2023-04-01 00:04:00</td>\n",
       "      <td>1</td>\n",
       "      <td>34.068748</td>\n",
       "      <td>-118.309280</td>\n",
       "      <td>4.0</td>\n",
       "      <td>34.065430</td>\n",
       "      <td>-118.308823</td>\n",
       "      <td>6591</td>\n",
       "    </tr>\n",
       "    <tr>\n",
       "      <th>3</th>\n",
       "      <td>249954776</td>\n",
       "      <td>12</td>\n",
       "      <td>2023-04-01 00:03:00</td>\n",
       "      <td>2023-04-01 00:15:00</td>\n",
       "      <td>2</td>\n",
       "      <td>34.042061</td>\n",
       "      <td>-118.263382</td>\n",
       "      <td>101.0</td>\n",
       "      <td>34.047440</td>\n",
       "      <td>-118.247940</td>\n",
       "      <td>13897</td>\n",
       "    </tr>\n",
       "    <tr>\n",
       "      <th>4</th>\n",
       "      <td>249954777</td>\n",
       "      <td>11</td>\n",
       "      <td>2023-04-01 00:04:00</td>\n",
       "      <td>2023-04-01 00:15:00</td>\n",
       "      <td>3</td>\n",
       "      <td>34.037460</td>\n",
       "      <td>-118.265381</td>\n",
       "      <td>101.0</td>\n",
       "      <td>34.047440</td>\n",
       "      <td>-118.247940</td>\n",
       "      <td>15488</td>\n",
       "    </tr>\n",
       "    <tr>\n",
       "      <th>...</th>\n",
       "      <td>...</td>\n",
       "      <td>...</td>\n",
       "      <td>...</td>\n",
       "      <td>...</td>\n",
       "      <td>...</td>\n",
       "      <td>...</td>\n",
       "      <td>...</td>\n",
       "      <td>...</td>\n",
       "      <td>...</td>\n",
       "      <td>...</td>\n",
       "      <td>...</td>\n",
       "    </tr>\n",
       "    <tr>\n",
       "      <th>109430</th>\n",
       "      <td>276579645</td>\n",
       "      <td>11</td>\n",
       "      <td>2023-06-30 23:39:00</td>\n",
       "      <td>2023-06-30 23:50:00</td>\n",
       "      <td>31</td>\n",
       "      <td>34.051102</td>\n",
       "      <td>-118.264557</td>\n",
       "      <td>31.0</td>\n",
       "      <td>34.051102</td>\n",
       "      <td>-118.264557</td>\n",
       "      <td>30593</td>\n",
       "    </tr>\n",
       "    <tr>\n",
       "      <th>109431</th>\n",
       "      <td>276590585</td>\n",
       "      <td>23</td>\n",
       "      <td>2023-06-30 23:44:00</td>\n",
       "      <td>2023-07-01 00:07:00</td>\n",
       "      <td>213</td>\n",
       "      <td>34.056969</td>\n",
       "      <td>-118.253593</td>\n",
       "      <td>213.0</td>\n",
       "      <td>34.056969</td>\n",
       "      <td>-118.253593</td>\n",
       "      <td>6205</td>\n",
       "    </tr>\n",
       "    <tr>\n",
       "      <th>109432</th>\n",
       "      <td>276579686</td>\n",
       "      <td>9</td>\n",
       "      <td>2023-06-30 23:45:00</td>\n",
       "      <td>2023-06-30 23:54:00</td>\n",
       "      <td>217</td>\n",
       "      <td>34.050140</td>\n",
       "      <td>-118.233192</td>\n",
       "      <td>217.0</td>\n",
       "      <td>34.050140</td>\n",
       "      <td>-118.233192</td>\n",
       "      <td>13851</td>\n",
       "    </tr>\n",
       "    <tr>\n",
       "      <th>109434</th>\n",
       "      <td>276590620</td>\n",
       "      <td>14</td>\n",
       "      <td>2023-06-30 23:55:00</td>\n",
       "      <td>2023-07-01 00:09:00</td>\n",
       "      <td>59</td>\n",
       "      <td>34.014309</td>\n",
       "      <td>-118.491341</td>\n",
       "      <td>102.0</td>\n",
       "      <td>33.996239</td>\n",
       "      <td>-118.477448</td>\n",
       "      <td>15658</td>\n",
       "    </tr>\n",
       "    <tr>\n",
       "      <th>109435</th>\n",
       "      <td>276613155</td>\n",
       "      <td>151</td>\n",
       "      <td>2023-06-30 23:59:00</td>\n",
       "      <td>2023-07-01 02:30:00</td>\n",
       "      <td>59</td>\n",
       "      <td>34.014309</td>\n",
       "      <td>-118.491341</td>\n",
       "      <td>59.0</td>\n",
       "      <td>34.014309</td>\n",
       "      <td>-118.491341</td>\n",
       "      <td>23613</td>\n",
       "    </tr>\n",
       "  </tbody>\n",
       "</table>\n",
       "<p>107691 rows × 11 columns</p>\n",
       "</div>"
      ],
      "text/plain": [
       "          trip_id  duration          start_time            end_time  \\\n",
       "0       249955060        41 2023-04-01 00:00:00 2023-04-01 00:41:00   \n",
       "1       249954734        11 2023-04-01 00:00:00 2023-04-01 00:11:00   \n",
       "2       249954667         2 2023-04-01 00:02:00 2023-04-01 00:04:00   \n",
       "3       249954776        12 2023-04-01 00:03:00 2023-04-01 00:15:00   \n",
       "4       249954777        11 2023-04-01 00:04:00 2023-04-01 00:15:00   \n",
       "...           ...       ...                 ...                 ...   \n",
       "109430  276579645        11 2023-06-30 23:39:00 2023-06-30 23:50:00   \n",
       "109431  276590585        23 2023-06-30 23:44:00 2023-07-01 00:07:00   \n",
       "109432  276579686         9 2023-06-30 23:45:00 2023-06-30 23:54:00   \n",
       "109434  276590620        14 2023-06-30 23:55:00 2023-07-01 00:09:00   \n",
       "109435  276613155       151 2023-06-30 23:59:00 2023-07-01 02:30:00   \n",
       "\n",
       "        start_station  start_lat   start_lon  end_station    end_lat  \\\n",
       "0                   0  34.072620 -118.449440          0.0  34.072620   \n",
       "1                   0  34.072620 -118.449440          7.0  34.069752   \n",
       "2                   1  34.068748 -118.309280          4.0  34.065430   \n",
       "3                   2  34.042061 -118.263382        101.0  34.047440   \n",
       "4                   3  34.037460 -118.265381        101.0  34.047440   \n",
       "...               ...        ...         ...          ...        ...   \n",
       "109430             31  34.051102 -118.264557         31.0  34.051102   \n",
       "109431            213  34.056969 -118.253593        213.0  34.056969   \n",
       "109432            217  34.050140 -118.233192        217.0  34.050140   \n",
       "109434             59  34.014309 -118.491341        102.0  33.996239   \n",
       "109435             59  34.014309 -118.491341         59.0  34.014309   \n",
       "\n",
       "           end_lon  bike_id  \n",
       "0      -118.449440    22398  \n",
       "1      -118.445351    22304  \n",
       "2      -118.308823     6591  \n",
       "3      -118.247940    13897  \n",
       "4      -118.247940    15488  \n",
       "...            ...      ...  \n",
       "109430 -118.264557    30593  \n",
       "109431 -118.253593     6205  \n",
       "109432 -118.233192    13851  \n",
       "109434 -118.477448    15658  \n",
       "109435 -118.491341    23613  \n",
       "\n",
       "[107691 rows x 11 columns]"
      ]
     },
     "execution_count": 4,
     "metadata": {},
     "output_type": "execute_result"
    }
   ],
   "source": [
    "preprocess_trips(trips)"
   ]
  },
  {
   "cell_type": "markdown",
   "metadata": {},
   "source": [
    "trips.dropna(inplace=True)\n",
    "#trips.head()"
   ]
  },
  {
   "cell_type": "markdown",
   "metadata": {},
   "source": [
    "locations = trips['start_station'].unique()\n",
    "new_ids = list(range(len(trips['start_station'].unique())))\n",
    "mapping = dict(zip(locations, new_ids))\n",
    "\n",
    "trips['start_station'] = trips['start_station'].map(mapping)\n",
    "trips['end_station'] = trips['end_station'].map(mapping)\n",
    "\n",
    "cols_to_drop = [\"bike_type\", \"passholder_type\", \"trip_route_category\", \"plan_duration\"]\n",
    "trips_df.drop(cols_to_drop, axis=1, inplace=True) \n",
    "\n",
    "#trips.head()"
   ]
  },
  {
   "cell_type": "markdown",
   "metadata": {},
   "source": [
    "trips = trips.sort_values(by=\"start_time\")\n",
    "#trips.head()"
   ]
  },
  {
   "cell_type": "code",
   "execution_count": 20,
   "metadata": {},
   "outputs": [
    {
     "data": {
      "text/plain": [
       "<Axes: xlabel='index', ylabel='trips_per_hour'>"
      ]
     },
     "execution_count": 20,
     "metadata": {},
     "output_type": "execute_result"
    },
    {
     "data": {
      "image/png": "[encoded data removed]",
      "text/plain": [
       "<Figure size 2000x600 with 1 Axes>"
      ]
     },
     "metadata": {},
     "output_type": "display_data"
    }
   ],
   "source": [
    "sns.set(rc={'figure.figsize':(20,6)})\n",
    "\n",
    "trips[\"start_time\"] = pd.to_datetime(trips[\"start_time\"], format=\"%m/%d/%Y %H:%M\")\n",
    "trips[\"end_time\"] = pd.to_datetime(trips[\"end_time\"], format=\"%m/%d/%Y %H:%M\")\n",
    "\n",
    "start_date = datetime.strptime(\"4/1/2023 0:00\", \"%m/%d/%Y %H:%M\")\n",
    "end_date = datetime.strptime(\"5/1/2023 0:00\", \"%m/%d/%Y %H:%M\")\n",
    "interval = timedelta(minutes=60)\n",
    "bucket_elements = []\n",
    "while start_date <= end_date:\n",
    "    bucket_elements.append(trips[((start_date + interval) >= trips[\"end_time\"])\n",
    "                                & (start_date <= trips[\"end_time\"])].shape[0])\n",
    "    start_date += interval\n",
    "\n",
    "sns.scatterplot(x=\"index\", y=\"trips_per_hour\", data=pd.DataFrame(bucket_elements, columns=[\"trips_per_hour\"]).reset_index())"
   ]
  },
  {
   "cell_type": "code",
   "execution_count": 15,
   "metadata": {},
   "outputs": [
    {
     "name": "stdout",
     "output_type": "stream",
     "text": [
      "Full shape:  (231, 2)\n"
     ]
    },
    {
     "data": {
      "text/plain": [
       "array([[0.24391063, 0.18240691],\n",
       "       [0.04888292, 0.05540565],\n",
       "       [0.09474215, 0.1122504 ],\n",
       "       [0.06870485, 0.06457996],\n",
       "       [0.05996976, 0.0687174 ],\n",
       "       [1.        , 0.90106134],\n",
       "       [0.05022678, 0.04353301],\n",
       "       [0.19385184, 0.22396114],\n",
       "       [0.08499916, 0.09372189],\n",
       "       [0.28590627, 0.31804281]])"
      ]
     },
     "execution_count": 15,
     "metadata": {},
     "output_type": "execute_result"
    }
   ],
   "source": [
    "outgoing_trips = trips.groupby(\"start_station\").count()[\"bike_id\"].values\n",
    "incoming_trips = trips.groupby(\"end_station\").count()[\"bike_id\"].values\n",
    "\n",
    "all_station_ids = set(trips[\"start_station\"].unique()) | set(trips[\"end_station\"].unique())\n",
    "\n",
    "outgoing_trips = np.pad(outgoing_trips, (0, len(all_station_ids) - len(outgoing_trips)), mode='constant')\n",
    "incoming_trips = np.pad(incoming_trips, (0, len(all_station_ids) - len(incoming_trips)), mode='constant')\n",
    "\n",
    "outgoing_trips = (outgoing_trips - np.min(outgoing_trips)) / (np.max(outgoing_trips) - np.min(outgoing_trips))\n",
    "incoming_trips = (incoming_trips - np.min(incoming_trips)) / (np.max(incoming_trips) - np.min(incoming_trips))\n",
    "\n",
    "node_features = np.stack([outgoing_trips, incoming_trips]).transpose()\n",
    "print(\"Full shape: \", node_features.shape)\n",
    "node_features[:10] \n"
   ]
  },
  {
   "cell_type": "code",
   "execution_count": 16,
   "metadata": {},
   "outputs": [],
   "source": [
    "subset = [\"start_lon\", \"start_lat\", \"start_station\"]\n",
    "all_starts = trips.drop_duplicates(subset=\"start_station\", keep=\"first\")[subset]\n",
    "subset = [\"end_lon\", \"end_lat\", \"end_station\"]\n",
    "all_ends = trips.drop_duplicates(subset=\"end_station\", keep=\"first\")[subset]\n",
    "distance_matrix = all_ends.merge(all_starts, how=\"cross\")\n",
    "distance_matrix[\"distance\"] = distance_matrix.apply(lambda x: geodesic((x[\"start_lat\"], x[\"start_lon\"]), \n",
    "                                                        (x[\"end_lat\"], x[\"end_lon\"])).meters, axis=1)\n",
    "#distance_matrix.head()"
   ]
  },
  {
   "cell_type": "code",
   "execution_count": 8,
   "metadata": {},
   "outputs": [],
   "source": [
    "distance_matrix[\"edge\"] = distance_matrix[\"distance\"] < 500\n",
    "#distance_matrix.head()"
   ]
  },
  {
   "cell_type": "code",
   "execution_count": 9,
   "metadata": {},
   "outputs": [],
   "source": [
    "edge_index = distance_matrix[distance_matrix[\"edge\"] == True][[\"start_station\", \"end_station\"]].values\n",
    "edge_index = edge_index.transpose()\n",
    "#edge_index"
   ]
  },
  {
   "cell_type": "code",
   "execution_count": 10,
   "metadata": {},
   "outputs": [],
   "source": [
    "distance_feature = distance_matrix[distance_matrix[\"edge\"] == True][\"distance\"].values\n",
    "edge_type_feature = np.zeros_like(distance_feature)\n",
    "trip_duration_feature = np.zeros_like(distance_feature)\n",
    "static_edge_features = np.stack([distance_feature, edge_type_feature, trip_duration_feature]).transpose()\n",
    "#static_edge_features"
   ]
  },
  {
   "cell_type": "code",
   "execution_count": 11,
   "metadata": {},
   "outputs": [],
   "source": [
    "def extract_dynamic_edges(s):\n",
    "\n",
    "    trip_indices = s[[\"start_station\", \"end_station\"]].values\n",
    "    trip_durations = s[\"duration\"]\n",
    "\n",
    "\n",
    "    distance_feature  = pd.DataFrame(trip_indices, \n",
    "                                    columns=[\"start_station\", \"end_station\"]).merge(\n",
    "                                        distance_matrix, on=[\"start_station\", \"end_station\"], \n",
    "                                        how=\"left\")[\"distance\"].values\n",
    "    edge_type_feature = np.ones_like(distance_feature) \n",
    "    trip_duration_feature = trip_durations\n",
    "    edge_features = np.stack([distance_feature, edge_type_feature, trip_duration_feature]).transpose()\n",
    "    return edge_features, trip_indices.transpose()"
   ]
  },
  {
   "cell_type": "code",
   "execution_count": 12,
   "metadata": {},
   "outputs": [],
   "source": [
    "start_date = datetime.strptime(\"4/1/2023 0:00\", \"%m/%d/%Y %H:%M\")\n",
    "end_date = datetime.strptime(\"5/1/2023 0:00\", \"%m/%d/%Y %H:%M\")\n",
    "\n",
    "interval = timedelta(minutes=60)\n",
    "\n",
    "xs = []\n",
    "edge_indices = []\n",
    "ys = []\n",
    "y_indices = []\n",
    "edge_features = []\n",
    "\n",
    "\n",
    "while start_date <= end_date:\n",
    "    # 0 - 60 min \n",
    "    current_snapshot = trips[((start_date + interval) >= trips[\"end_time\"])\n",
    "                                & (start_date <= trips[\"end_time\"])]\n",
    "    # 60 - 120 min\n",
    "    subsequent_snapshot = trips[((start_date + 2*interval) >= trips[\"end_time\"])\n",
    "                                & (start_date + interval <= trips[\"end_time\"])]\n",
    "    current_snapshot = current_snapshot.groupby([\"start_station\", \"end_station\"]).mean().reset_index()\n",
    "    subsequent_snapshot = subsequent_snapshot.groupby([\"start_station\", \"end_station\"]).mean().reset_index()\n",
    "\n",
    "    edge_feats, additional_edge_index = extract_dynamic_edges(current_snapshot)\n",
    "    exteneded_edge_index = np.concatenate([edge_index, additional_edge_index], axis=1)\n",
    "    extended_edge_feats = np.concatenate([edge_feats, static_edge_features], axis=0)\n",
    "\n",
    "    y = subsequent_snapshot[\"duration\"].values\n",
    "    y_index = subsequent_snapshot[[\"start_station\", \"end_station\"]].values\n",
    "\n",
    "    xs.append(node_features)\n",
    "    edge_indices.append(exteneded_edge_index) \n",
    "    edge_features.append(extended_edge_feats)\n",
    "    ys.append(y) \n",
    "    y_indices.append(y_index.transpose()) \n",
    "\n",
    "    start_date += interval"
   ]
  },
  {
   "cell_type": "code",
   "execution_count": 13,
   "metadata": {},
   "outputs": [
    {
     "name": "stdout",
     "output_type": "stream",
     "text": [
      "Example of graph snapshot 4: \n",
      "\n",
      "    Node feature shape: (230, 2) \n",
      "\n",
      "    Edge index shape: (2, 703) \n",
      "\n",
      "    Edge feature shape: (703, 3) \n",
      " \n",
      "    Labels shape: (5,) \n",
      "\n",
      "    Labels mask shape: (2, 5)\n",
      "    \n"
     ]
    }
   ],
   "source": [
    "i = 4\n",
    "print(f\"\"\"Example of graph snapshot {i}: \\n\n",
    "    Node feature shape: {xs[i].shape} \\n\n",
    "    Edge index shape: {edge_indices[i].shape} \\n\n",
    "    Edge feature shape: {edge_features[i].shape} \\n \n",
    "    Labels shape: {ys[i].shape} \\n\n",
    "    Labels mask shape: {y_indices[i].shape}\n",
    "    \"\"\")"
   ]
  },
  {
   "cell_type": "code",
   "execution_count": 14,
   "metadata": {},
   "outputs": [],
   "source": [
    "from torch_geometric_temporal.signal import DynamicGraphTemporalSignal\n",
    "dataset = DynamicGraphTemporalSignal(\n",
    "            edge_indices, edge_features, xs, ys, y_indices=y_indices\n",
    "        )"
   ]
  },
  {
   "cell_type": "code",
   "execution_count": 17,
   "metadata": {},
   "outputs": [
    {
     "data": {
      "text/plain": [
       "<torch_geometric_temporal.signal.dynamic_graph_temporal_signal.DynamicGraphTemporalSignal at 0x264d1e99f00>"
      ]
     },
     "execution_count": 17,
     "metadata": {},
     "output_type": "execute_result"
    }
   ],
   "source": [
    "dataset"
   ]
  }
 ],
 "metadata": {
  "kernelspec": {
   "display_name": "py",
   "language": "python",
   "name": "python3"
  },
  "language_info": {
   "codemirror_mode": {
    "name": "ipython",
    "version": 3
   },
   "file_extension": ".py",
   "mimetype": "text/x-python",
   "name": "python",
   "nbconvert_exporter": "python",
   "pygments_lexer": "ipython3",
   "version": "3.10.12"
  },
  "orig_nbformat": 4
 },
 "nbformat": 4,
 "nbformat_minor": 2
}
