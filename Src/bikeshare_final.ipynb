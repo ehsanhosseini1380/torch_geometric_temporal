{
 "cells": [
  {
   "cell_type": "markdown",
   "metadata": {},
   "source": [
    "# Rental Bike Project\n",
    "\n",
    "## Problem Definition\n",
    "\n",
    "The objective of this case is to predict the bike rental count on a daily basis based on environmental and seasonal settings.\n",
    "\n",
    "## Table of Contents\n",
    "\n",
    "##### 1-Data Collection\n",
    "- Importing the necessary libraries & packages\n",
    "- Loading data\n",
    "##### 2-Exploratory Data Analysis (EDA)\n",
    "- Data visualization\n",
    "- Attributes distributution & trends\n",
    "- Data analysis\n",
    "##### 3-Data Preprocessing\n",
    "- Outlier analysis\n",
    "- Data cleaning\n",
    "- Feature selection\n",
    "- Feature scaling \n",
    "##### 4-Train & Test Split \n",
    "##### 5-Optimization\n",
    "- Dimensionality reduction\n",
    "- hyperparameter optimization\n",
    "##### 6-Model Development\n",
    "##### 7-Cross Validation Prediction\n",
    "##### 8-Models Performances\n",
    "- Optimization impacts on models\n",
    "- Models comparison\n",
    "##### 9-Model Evaluation Metrics\n",
    "##### 10-Conclusion \n",
    "\n",
    "\n",
    "## Goal and Hypothesis\n",
    "\n",
    "Our goal is to build a predictive model that accurately forecasts the number of bike rentals for each day. To achieve this, we will gather data on various environmental factors, such as temperature, humidity, and wind speed, as well as seasonal settings like day of the week and month. By exploring and analyzing this data, we aim to identify patterns and relationships that can help us understand the factors influencing bike rental demand.\n",
    "\n",
    "Hypothesis:\n",
    "We hypothesize that the bike rental count is likely to be affected by factors such as weather conditions, day of the week, and holiday periods. For example, we expect that bike rentals might increase during warm and sunny days and decrease during cold or rainy days. Additionally, we anticipate higher demand during weekends and holiday seasons compared to weekdays.\n",
    "\n",
    "By testing and validating our hypothesis through data analysis and modeling, we hope to develop a robust predictive system that can be used for effective bike fleet management and meeting customer demand.\n",
    "\n",
    "Let's start our journey by collecting and exploring the data to uncover valuable insights for our rental bike project!"
   ]
  },
  {
   "cell_type": "markdown",
   "metadata": {},
   "source": [
    "##### 1 - Data Collection"
   ]
  },
  {
   "cell_type": "markdown",
   "metadata": {},
   "source": [
    "- Importing necessary libraries\n"
   ]
  },
  {
   "cell_type": "code",
   "execution_count": null,
   "metadata": {},
   "outputs": [],
   "source": [
    "#TODO import libraries"
   ]
  },
  {
   "cell_type": "markdown",
   "metadata": {},
   "source": [
    "- Loading data"
   ]
  },
  {
   "cell_type": "code",
   "execution_count": null,
   "metadata": {},
   "outputs": [],
   "source": [
    "#TODO read the data file"
   ]
  },
  {
   "cell_type": "markdown",
   "metadata": {},
   "source": [
    "- Data visualization\n"
   ]
  },
  {
   "cell_type": "markdown",
   "metadata": {},
   "source": [
    "##### 2 - Exploratory Data Analysis(EDA)"
   ]
  },
  {
   "cell_type": "code",
   "execution_count": null,
   "metadata": {},
   "outputs": [],
   "source": [
    "#TODO creating histograms,scatter plots,box plots gathering general insights via visualizing"
   ]
  },
  {
   "cell_type": "markdown",
   "metadata": {},
   "source": [
    "- Attributes distributution & trends"
   ]
  },
  {
   "cell_type": "code",
   "execution_count": null,
   "metadata": {},
   "outputs": [],
   "source": [
    "\n",
    "#TODO creating monthly,yearly,daily,weekly plots and visuals"
   ]
  },
  {
   "cell_type": "markdown",
   "metadata": {},
   "source": [
    "- Data analysis"
   ]
  },
  {
   "cell_type": "code",
   "execution_count": null,
   "metadata": {},
   "outputs": [],
   "source": [
    "#TODO discover patterns and relationships"
   ]
  },
  {
   "cell_type": "markdown",
   "metadata": {},
   "source": [
    "##### 3 - Data Preprocessing"
   ]
  },
  {
   "cell_type": "markdown",
   "metadata": {},
   "source": [
    "- Outlier analysis\n"
   ]
  },
  {
   "cell_type": "code",
   "execution_count": null,
   "metadata": {},
   "outputs": [],
   "source": [
    "#TODO discover outliers and decide to remove or not"
   ]
  },
  {
   "cell_type": "markdown",
   "metadata": {},
   "source": [
    "- Data cleaning"
   ]
  },
  {
   "cell_type": "code",
   "execution_count": null,
   "metadata": {},
   "outputs": [],
   "source": [
    "#TODO step 1-type casting & type checking\n",
    "#TODO step 2-duplicate checking\n",
    "#TODO step 3-missing value checking \n",
    "#TODO step 4-null value checking"
   ]
  },
  {
   "cell_type": "markdown",
   "metadata": {},
   "source": [
    "- Feature selection\n"
   ]
  },
  {
   "cell_type": "code",
   "execution_count": null,
   "metadata": {},
   "outputs": [],
   "source": [
    "#TODO step 1-correlation analysis and correlation matrix\n",
    "#TODO step 2-chi-square test\n",
    "#TODO step 3-variance analysis(Anova) test\n",
    "#TODO step 4-Multicollinearity test"
   ]
  },
  {
   "cell_type": "markdown",
   "metadata": {},
   "source": [
    "- Feature scaling \n"
   ]
  },
  {
   "cell_type": "code",
   "execution_count": null,
   "metadata": {},
   "outputs": [],
   "source": [
    "#TODO normalization"
   ]
  },
  {
   "cell_type": "markdown",
   "metadata": {},
   "source": [
    "##### 4 - Train & Test Split \n"
   ]
  },
  {
   "cell_type": "code",
   "execution_count": null,
   "metadata": {},
   "outputs": [],
   "source": [
    "#TODO create a Train and Test (maybe use other months or generally other data)"
   ]
  },
  {
   "cell_type": "markdown",
   "metadata": {},
   "source": [
    "##### 5 - Optimization\n"
   ]
  },
  {
   "cell_type": "markdown",
   "metadata": {},
   "source": [
    "- Dimensionality reduction\n"
   ]
  },
  {
   "cell_type": "code",
   "execution_count": null,
   "metadata": {},
   "outputs": [],
   "source": [
    "#TODO dimensionality reduction using PCA"
   ]
  },
  {
   "cell_type": "markdown",
   "metadata": {},
   "source": [
    "- hyperparameter optimization"
   ]
  },
  {
   "cell_type": "code",
   "execution_count": null,
   "metadata": {},
   "outputs": [],
   "source": [
    "#TODO hyperparameter optimizing"
   ]
  },
  {
   "cell_type": "markdown",
   "metadata": {},
   "source": [
    "##### 6 - Model Development\n"
   ]
  },
  {
   "cell_type": "code",
   "execution_count": null,
   "metadata": {},
   "outputs": [],
   "source": [
    "#TODO introduce different models such as \"Random Forest\",\"Decision Tree Regressor\",\"Lasso Regression\",\"Ridge Regression\",\"Linear Regression\"\n",
    "#TODO train different models introduces above"
   ]
  },
  {
   "cell_type": "markdown",
   "metadata": {},
   "source": [
    "##### 7 - Cross Validation Prediction\n"
   ]
  },
  {
   "cell_type": "code",
   "execution_count": null,
   "metadata": {},
   "outputs": [],
   "source": [
    "#TODO CV prediction for all the models"
   ]
  },
  {
   "cell_type": "markdown",
   "metadata": {},
   "source": [
    "##### 8 - Models Performances\n"
   ]
  },
  {
   "cell_type": "markdown",
   "metadata": {},
   "source": [
    "- Optimization impacts on models\n"
   ]
  },
  {
   "cell_type": "code",
   "execution_count": null,
   "metadata": {},
   "outputs": [],
   "source": [
    "#TODO compare the performances with & without PCA"
   ]
  },
  {
   "cell_type": "markdown",
   "metadata": {},
   "source": [
    "- Models comparison\n"
   ]
  },
  {
   "cell_type": "code",
   "execution_count": null,
   "metadata": {},
   "outputs": [],
   "source": [
    "#TODO compare different models performances"
   ]
  },
  {
   "cell_type": "markdown",
   "metadata": {},
   "source": [
    "##### 9 - Model Evaluation Metrics\n"
   ]
  },
  {
   "cell_type": "code",
   "execution_count": null,
   "metadata": {},
   "outputs": [],
   "source": [
    "#TODO R-squared score\n",
    "#TODO Root mean square error\n",
    "#TODO Mean absolute error"
   ]
  },
  {
   "cell_type": "markdown",
   "metadata": {},
   "source": [
    "##### 10 - Conclusion "
   ]
  },
  {
   "cell_type": "code",
   "execution_count": null,
   "metadata": {},
   "outputs": [],
   "source": [
    "#TODO Choosing best model"
   ]
  }
 ],
 "metadata": {
  "language_info": {
   "name": "python"
  },
  "orig_nbformat": 4
 },
 "nbformat": 4,
 "nbformat_minor": 2
}
