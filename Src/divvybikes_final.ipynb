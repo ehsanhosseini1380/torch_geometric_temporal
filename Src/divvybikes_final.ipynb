{
 "cells": [
  {
   "cell_type": "markdown",
   "metadata": {},
   "source": [
    "# Rental Bike Project\n",
    "\n",
    "## Problem Definition\n",
    "\n",
    "The problem at hand revolves around predicting bike trip durations and the number of incoming and outgoing trips on a daily basis. The predictions will be based on various environmental and seasonal settings, which are likely to influence the patterns of bike usage. By understanding and modeling these influential factors, we aim to gain valuable insights into the dynamics of bike sharing systems and improve the overall efficiency and user experience.\n",
    "\n",
    "Bike sharing systems have become increasingly popular in urban areas, providing a convenient and sustainable mode of transportation for residents and visitors alike. These systems often involve a fleet of bicycles distributed across multiple docking stations throughout the city. Users can rent a bike from one station and return it to another, enabling flexible point-to-point travel.\n",
    "\n",
    "To effectively manage and optimize the bike sharing system, it is essential to have a reliable prediction model that can anticipate the demand for bikes at different stations and during different time intervals. By accurately forecasting trip durations and trip volumes, system operators can make informed decisions about resource allocation, station maintenance, and capacity planning.\n",
    "\n",
    "## Table of Contents\n",
    "\n",
    "##### 1-Data Collection\n",
    "- Importing the necessary libraries & packages\n",
    "- Loading data\n",
    "- Data representation\n",
    "##### 2-Exploratory Data Analysis (EDA)\n",
    "- Data visualization\n",
    "- trends\n",
    "- Data analysis\n",
    "##### 3-Data Preprocessing\n",
    "- Outlier analysis\n",
    "- Data cleaning\n",
    "- Feature scaling \n",
    "##### 4-Graph Creation\n",
    "- Node feature\n",
    "- Edge feature\n",
    "- Edge creation\n",
    "- Static & dynamic edges\n",
    "- Graph creation\n",
    "##### 5-Train & Test Split \n",
    "##### 6-Optimization\n",
    "- Dimensionality reduction\n",
    "- hyperparameter optimization\n",
    "##### 7-Model Development\n",
    "##### 8-Cross Validation Prediction\n",
    "##### 9-Models Performances\n",
    "- Optimization impacts on models\n",
    "- Models comparison\n",
    "##### 10-Model Evaluation Metrics\n",
    "##### 11-Conclusion \n",
    "\n",
    "\n",
    "## Goal and Hypothesis\n",
    "\n",
    "The primary goal of this project is to develop a predictive model that can accurately forecast bike trip durations and the number of incoming and outgoing trips on a daily basis in a bike sharing system. The model will utilize environmental and seasonal settings as input features to capture the various factors that influence bike usage patterns. By achieving this goal, we aim to enhance the efficiency and reliability of the bike sharing system, leading to improved user satisfaction and a more sustainable and accessible transportation option for urban communities.\n",
    "\n",
    "Based on the graph dataset and the available environmental and seasonal settings, we hypothesize that certain factors will significantly impact bike trip durations and the volume of incoming and outgoing trips. We expect that variables such as day of the week, time of day, and seasonal variations will play a crucial role in determining bike usage patterns.\n",
    "\n",
    "By testing and analyzing these hypotheses through data exploration and modeling techniques, we aim to gain a deeper understanding of the relationships between the input features and the target variables. This knowledge will allow us to build a robust predictive model that accurately captures the dynamics of the bike sharing system and aids in making informed decisions for system optimization and planning.\n",
    "\n",
    "Let's start our journey by collecting and exploring the data to uncover valuable insights for our rental bike project!"
   ]
  },
  {
   "cell_type": "markdown",
   "metadata": {},
   "source": [
    "##### 1 - Data Collection"
   ]
  },
  {
   "cell_type": "markdown",
   "metadata": {},
   "source": [
    "- Importing necessary libraries\n"
   ]
  },
  {
   "cell_type": "code",
   "execution_count": 1,
   "metadata": {},
   "outputs": [],
   "source": [
    "#import libraries\n",
    "import pandas as pd\n",
    "import numpy as np\n",
    "from sklearn.utils.extmath import cartesian\n",
    "from geopy.distance import geodesic\n",
    "import matplotlib.pyplot as plt\n",
    "from datetime import datetime, timedelta\n",
    "import seaborn as sns"
   ]
  },
  {
   "cell_type": "markdown",
   "metadata": {},
   "source": [
    "- Loading data"
   ]
  },
  {
   "cell_type": "code",
   "execution_count": 2,
   "metadata": {},
   "outputs": [
    {
     "data": {
      "text/html": [
       "<div>\n",
       "<style scoped>\n",
       "    .dataframe tbody tr th:only-of-type {\n",
       "        vertical-align: middle;\n",
       "    }\n",
       "\n",
       "    .dataframe tbody tr th {\n",
       "        vertical-align: top;\n",
       "    }\n",
       "\n",
       "    .dataframe thead th {\n",
       "        text-align: right;\n",
       "    }\n",
       "</style>\n",
       "<table border=\"1\" class=\"dataframe\">\n",
       "  <thead>\n",
       "    <tr style=\"text-align: right;\">\n",
       "      <th></th>\n",
       "      <th>ride_id</th>\n",
       "      <th>rideable_type</th>\n",
       "      <th>started_at</th>\n",
       "      <th>ended_at</th>\n",
       "      <th>start_station_name</th>\n",
       "      <th>start_station_id</th>\n",
       "      <th>end_station_name</th>\n",
       "      <th>end_station_id</th>\n",
       "      <th>start_lat</th>\n",
       "      <th>start_lng</th>\n",
       "      <th>end_lat</th>\n",
       "      <th>end_lng</th>\n",
       "      <th>member_casual</th>\n",
       "    </tr>\n",
       "  </thead>\n",
       "  <tbody>\n",
       "    <tr>\n",
       "      <th>0</th>\n",
       "      <td>A847FADBBC638E45</td>\n",
       "      <td>docked_bike</td>\n",
       "      <td>2020-04-26 17:45:14</td>\n",
       "      <td>2020-04-26 18:12:03</td>\n",
       "      <td>Eckhart Park</td>\n",
       "      <td>86</td>\n",
       "      <td>Lincoln Ave &amp; Diversey Pkwy</td>\n",
       "      <td>152.0</td>\n",
       "      <td>41.8964</td>\n",
       "      <td>-87.6610</td>\n",
       "      <td>41.9322</td>\n",
       "      <td>-87.6586</td>\n",
       "      <td>member</td>\n",
       "    </tr>\n",
       "    <tr>\n",
       "      <th>1</th>\n",
       "      <td>5405B80E996FF60D</td>\n",
       "      <td>docked_bike</td>\n",
       "      <td>2020-04-17 17:08:54</td>\n",
       "      <td>2020-04-17 17:17:03</td>\n",
       "      <td>Drake Ave &amp; Fullerton Ave</td>\n",
       "      <td>503</td>\n",
       "      <td>Kosciuszko Park</td>\n",
       "      <td>499.0</td>\n",
       "      <td>41.9244</td>\n",
       "      <td>-87.7154</td>\n",
       "      <td>41.9306</td>\n",
       "      <td>-87.7238</td>\n",
       "      <td>member</td>\n",
       "    </tr>\n",
       "    <tr>\n",
       "      <th>2</th>\n",
       "      <td>5DD24A79A4E006F4</td>\n",
       "      <td>docked_bike</td>\n",
       "      <td>2020-04-01 17:54:13</td>\n",
       "      <td>2020-04-01 18:08:36</td>\n",
       "      <td>McClurg Ct &amp; Erie St</td>\n",
       "      <td>142</td>\n",
       "      <td>Indiana Ave &amp; Roosevelt Rd</td>\n",
       "      <td>255.0</td>\n",
       "      <td>41.8945</td>\n",
       "      <td>-87.6179</td>\n",
       "      <td>41.8679</td>\n",
       "      <td>-87.6230</td>\n",
       "      <td>member</td>\n",
       "    </tr>\n",
       "    <tr>\n",
       "      <th>3</th>\n",
       "      <td>2A59BBDF5CDBA725</td>\n",
       "      <td>docked_bike</td>\n",
       "      <td>2020-04-07 12:50:19</td>\n",
       "      <td>2020-04-07 13:02:31</td>\n",
       "      <td>California Ave &amp; Division St</td>\n",
       "      <td>216</td>\n",
       "      <td>Wood St &amp; Augusta Blvd</td>\n",
       "      <td>657.0</td>\n",
       "      <td>41.9030</td>\n",
       "      <td>-87.6975</td>\n",
       "      <td>41.8992</td>\n",
       "      <td>-87.6722</td>\n",
       "      <td>member</td>\n",
       "    </tr>\n",
       "    <tr>\n",
       "      <th>4</th>\n",
       "      <td>27AD306C119C6158</td>\n",
       "      <td>docked_bike</td>\n",
       "      <td>2020-04-18 10:22:59</td>\n",
       "      <td>2020-04-18 11:15:54</td>\n",
       "      <td>Rush St &amp; Hubbard St</td>\n",
       "      <td>125</td>\n",
       "      <td>Sheridan Rd &amp; Lawrence Ave</td>\n",
       "      <td>323.0</td>\n",
       "      <td>41.8902</td>\n",
       "      <td>-87.6262</td>\n",
       "      <td>41.9695</td>\n",
       "      <td>-87.6547</td>\n",
       "      <td>casual</td>\n",
       "    </tr>\n",
       "  </tbody>\n",
       "</table>\n",
       "</div>"
      ],
      "text/plain": [
       "            ride_id rideable_type           started_at             ended_at  \\\n",
       "0  A847FADBBC638E45   docked_bike  2020-04-26 17:45:14  2020-04-26 18:12:03   \n",
       "1  5405B80E996FF60D   docked_bike  2020-04-17 17:08:54  2020-04-17 17:17:03   \n",
       "2  5DD24A79A4E006F4   docked_bike  2020-04-01 17:54:13  2020-04-01 18:08:36   \n",
       "3  2A59BBDF5CDBA725   docked_bike  2020-04-07 12:50:19  2020-04-07 13:02:31   \n",
       "4  27AD306C119C6158   docked_bike  2020-04-18 10:22:59  2020-04-18 11:15:54   \n",
       "\n",
       "             start_station_name  start_station_id  \\\n",
       "0                  Eckhart Park                86   \n",
       "1     Drake Ave & Fullerton Ave               503   \n",
       "2          McClurg Ct & Erie St               142   \n",
       "3  California Ave & Division St               216   \n",
       "4          Rush St & Hubbard St               125   \n",
       "\n",
       "              end_station_name  end_station_id  start_lat  start_lng  end_lat  \\\n",
       "0  Lincoln Ave & Diversey Pkwy           152.0    41.8964   -87.6610  41.9322   \n",
       "1              Kosciuszko Park           499.0    41.9244   -87.7154  41.9306   \n",
       "2   Indiana Ave & Roosevelt Rd           255.0    41.8945   -87.6179  41.8679   \n",
       "3       Wood St & Augusta Blvd           657.0    41.9030   -87.6975  41.8992   \n",
       "4   Sheridan Rd & Lawrence Ave           323.0    41.8902   -87.6262  41.9695   \n",
       "\n",
       "   end_lng member_casual  \n",
       "0 -87.6586        member  \n",
       "1 -87.7238        member  \n",
       "2 -87.6230        member  \n",
       "3 -87.6722        member  \n",
       "4 -87.6547        casual  "
      ]
     },
     "execution_count": 2,
     "metadata": {},
     "output_type": "execute_result"
    }
   ],
   "source": [
    "#read the data file\n",
    "trips = pd.read_csv(\"../Data/divvybikes-data/divvybikes-test.csv\")\n",
    "trips.head()"
   ]
  },
  {
   "cell_type": "markdown",
   "metadata": {},
   "source": [
    "- Data representation"
   ]
  },
  {
   "cell_type": "code",
   "execution_count": 3,
   "metadata": {},
   "outputs": [
    {
     "name": "stdout",
     "output_type": "stream",
     "text": [
      "<class 'pandas.core.frame.DataFrame'>\n",
      "RangeIndex: 84776 entries, 0 to 84775\n",
      "Data columns (total 21 columns):\n",
      " #   Column              Non-Null Count  Dtype  \n",
      "---  ------              --------------  -----  \n",
      " 0   id                  84776 non-null  object \n",
      " 1   start_date          84776 non-null  object \n",
      " 2   end_date            84776 non-null  object \n",
      " 3   start_station_name  84776 non-null  object \n",
      " 4   start_station_id    84776 non-null  int64  \n",
      " 5   end_station_name    84677 non-null  object \n",
      " 6   end_station_id      84677 non-null  float64\n",
      " 7   start_lat           84776 non-null  float64\n",
      " 8   start_lng           84776 non-null  float64\n",
      " 9   end_lat             84677 non-null  float64\n",
      " 10  end_lng             84677 non-null  float64\n",
      " 11  start_month         84776 non-null  object \n",
      " 12  end_month           84776 non-null  object \n",
      " 13  start_day           84776 non-null  object \n",
      " 14  end_day             84776 non-null  object \n",
      " 15  start_hour          84776 non-null  object \n",
      " 16  end_hour            84776 non-null  object \n",
      " 17  start_minute        84776 non-null  object \n",
      " 18  end_minute          84776 non-null  object \n",
      " 19  start_second        84776 non-null  object \n",
      " 20  end_second          84776 non-null  object \n",
      "dtypes: float64(5), int64(1), object(15)\n",
      "memory usage: 13.6+ MB\n",
      "info:None\n"
     ]
    },
    {
     "data": {
      "text/html": [
       "<div>\n",
       "<style scoped>\n",
       "    .dataframe tbody tr th:only-of-type {\n",
       "        vertical-align: middle;\n",
       "    }\n",
       "\n",
       "    .dataframe tbody tr th {\n",
       "        vertical-align: top;\n",
       "    }\n",
       "\n",
       "    .dataframe thead th {\n",
       "        text-align: right;\n",
       "    }\n",
       "</style>\n",
       "<table border=\"1\" class=\"dataframe\">\n",
       "  <thead>\n",
       "    <tr style=\"text-align: right;\">\n",
       "      <th></th>\n",
       "      <th>id</th>\n",
       "      <th>start_date</th>\n",
       "      <th>end_date</th>\n",
       "      <th>start_station_name</th>\n",
       "      <th>start_station_id</th>\n",
       "      <th>end_station_name</th>\n",
       "      <th>end_station_id</th>\n",
       "      <th>start_lat</th>\n",
       "      <th>start_lng</th>\n",
       "      <th>end_lat</th>\n",
       "      <th>...</th>\n",
       "      <th>start_month</th>\n",
       "      <th>end_month</th>\n",
       "      <th>start_day</th>\n",
       "      <th>end_day</th>\n",
       "      <th>start_hour</th>\n",
       "      <th>end_hour</th>\n",
       "      <th>start_minute</th>\n",
       "      <th>end_minute</th>\n",
       "      <th>start_second</th>\n",
       "      <th>end_second</th>\n",
       "    </tr>\n",
       "  </thead>\n",
       "  <tbody>\n",
       "    <tr>\n",
       "      <th>0</th>\n",
       "      <td>A847FADBBC638E45</td>\n",
       "      <td>2020-04-26 17:45:14</td>\n",
       "      <td>2020-04-26 18:12:03</td>\n",
       "      <td>Eckhart Park</td>\n",
       "      <td>86</td>\n",
       "      <td>Lincoln Ave &amp; Diversey Pkwy</td>\n",
       "      <td>152.0</td>\n",
       "      <td>41.8964</td>\n",
       "      <td>-87.6610</td>\n",
       "      <td>41.9322</td>\n",
       "      <td>...</td>\n",
       "      <td>04</td>\n",
       "      <td>04</td>\n",
       "      <td>26</td>\n",
       "      <td>26</td>\n",
       "      <td>17</td>\n",
       "      <td>18</td>\n",
       "      <td>45</td>\n",
       "      <td>12</td>\n",
       "      <td>14</td>\n",
       "      <td>03</td>\n",
       "    </tr>\n",
       "    <tr>\n",
       "      <th>1</th>\n",
       "      <td>5405B80E996FF60D</td>\n",
       "      <td>2020-04-17 17:08:54</td>\n",
       "      <td>2020-04-17 17:17:03</td>\n",
       "      <td>Drake Ave &amp; Fullerton Ave</td>\n",
       "      <td>503</td>\n",
       "      <td>Kosciuszko Park</td>\n",
       "      <td>499.0</td>\n",
       "      <td>41.9244</td>\n",
       "      <td>-87.7154</td>\n",
       "      <td>41.9306</td>\n",
       "      <td>...</td>\n",
       "      <td>04</td>\n",
       "      <td>04</td>\n",
       "      <td>17</td>\n",
       "      <td>17</td>\n",
       "      <td>17</td>\n",
       "      <td>17</td>\n",
       "      <td>08</td>\n",
       "      <td>17</td>\n",
       "      <td>54</td>\n",
       "      <td>03</td>\n",
       "    </tr>\n",
       "    <tr>\n",
       "      <th>2</th>\n",
       "      <td>5DD24A79A4E006F4</td>\n",
       "      <td>2020-04-01 17:54:13</td>\n",
       "      <td>2020-04-01 18:08:36</td>\n",
       "      <td>McClurg Ct &amp; Erie St</td>\n",
       "      <td>142</td>\n",
       "      <td>Indiana Ave &amp; Roosevelt Rd</td>\n",
       "      <td>255.0</td>\n",
       "      <td>41.8945</td>\n",
       "      <td>-87.6179</td>\n",
       "      <td>41.8679</td>\n",
       "      <td>...</td>\n",
       "      <td>04</td>\n",
       "      <td>04</td>\n",
       "      <td>01</td>\n",
       "      <td>01</td>\n",
       "      <td>17</td>\n",
       "      <td>18</td>\n",
       "      <td>54</td>\n",
       "      <td>08</td>\n",
       "      <td>13</td>\n",
       "      <td>36</td>\n",
       "    </tr>\n",
       "    <tr>\n",
       "      <th>3</th>\n",
       "      <td>2A59BBDF5CDBA725</td>\n",
       "      <td>2020-04-07 12:50:19</td>\n",
       "      <td>2020-04-07 13:02:31</td>\n",
       "      <td>California Ave &amp; Division St</td>\n",
       "      <td>216</td>\n",
       "      <td>Wood St &amp; Augusta Blvd</td>\n",
       "      <td>657.0</td>\n",
       "      <td>41.9030</td>\n",
       "      <td>-87.6975</td>\n",
       "      <td>41.8992</td>\n",
       "      <td>...</td>\n",
       "      <td>04</td>\n",
       "      <td>04</td>\n",
       "      <td>07</td>\n",
       "      <td>07</td>\n",
       "      <td>12</td>\n",
       "      <td>13</td>\n",
       "      <td>50</td>\n",
       "      <td>02</td>\n",
       "      <td>19</td>\n",
       "      <td>31</td>\n",
       "    </tr>\n",
       "    <tr>\n",
       "      <th>4</th>\n",
       "      <td>27AD306C119C6158</td>\n",
       "      <td>2020-04-18 10:22:59</td>\n",
       "      <td>2020-04-18 11:15:54</td>\n",
       "      <td>Rush St &amp; Hubbard St</td>\n",
       "      <td>125</td>\n",
       "      <td>Sheridan Rd &amp; Lawrence Ave</td>\n",
       "      <td>323.0</td>\n",
       "      <td>41.8902</td>\n",
       "      <td>-87.6262</td>\n",
       "      <td>41.9695</td>\n",
       "      <td>...</td>\n",
       "      <td>04</td>\n",
       "      <td>04</td>\n",
       "      <td>18</td>\n",
       "      <td>18</td>\n",
       "      <td>10</td>\n",
       "      <td>11</td>\n",
       "      <td>22</td>\n",
       "      <td>15</td>\n",
       "      <td>59</td>\n",
       "      <td>54</td>\n",
       "    </tr>\n",
       "  </tbody>\n",
       "</table>\n",
       "<p>5 rows × 21 columns</p>\n",
       "</div>"
      ],
      "text/plain": [
       "                 id           start_date             end_date  \\\n",
       "0  A847FADBBC638E45  2020-04-26 17:45:14  2020-04-26 18:12:03   \n",
       "1  5405B80E996FF60D  2020-04-17 17:08:54  2020-04-17 17:17:03   \n",
       "2  5DD24A79A4E006F4  2020-04-01 17:54:13  2020-04-01 18:08:36   \n",
       "3  2A59BBDF5CDBA725  2020-04-07 12:50:19  2020-04-07 13:02:31   \n",
       "4  27AD306C119C6158  2020-04-18 10:22:59  2020-04-18 11:15:54   \n",
       "\n",
       "             start_station_name  start_station_id  \\\n",
       "0                  Eckhart Park                86   \n",
       "1     Drake Ave & Fullerton Ave               503   \n",
       "2          McClurg Ct & Erie St               142   \n",
       "3  California Ave & Division St               216   \n",
       "4          Rush St & Hubbard St               125   \n",
       "\n",
       "              end_station_name  end_station_id  start_lat  start_lng  end_lat  \\\n",
       "0  Lincoln Ave & Diversey Pkwy           152.0    41.8964   -87.6610  41.9322   \n",
       "1              Kosciuszko Park           499.0    41.9244   -87.7154  41.9306   \n",
       "2   Indiana Ave & Roosevelt Rd           255.0    41.8945   -87.6179  41.8679   \n",
       "3       Wood St & Augusta Blvd           657.0    41.9030   -87.6975  41.8992   \n",
       "4   Sheridan Rd & Lawrence Ave           323.0    41.8902   -87.6262  41.9695   \n",
       "\n",
       "   ...  start_month end_month start_day end_day start_hour end_hour  \\\n",
       "0  ...           04        04        26      26         17       18   \n",
       "1  ...           04        04        17      17         17       17   \n",
       "2  ...           04        04        01      01         17       18   \n",
       "3  ...           04        04        07      07         12       13   \n",
       "4  ...           04        04        18      18         10       11   \n",
       "\n",
       "  start_minute end_minute start_second end_second  \n",
       "0           45         12           14         03  \n",
       "1           08         17           54         03  \n",
       "2           54         08           13         36  \n",
       "3           50         02           19         31  \n",
       "4           22         15           59         54  \n",
       "\n",
       "[5 rows x 21 columns]"
      ]
     },
     "execution_count": 3,
     "metadata": {},
     "output_type": "execute_result"
    }
   ],
   "source": [
    "#rename columns\n",
    "trips.rename(columns={'ride_id':'id','started_at':'start_date','ended_at':'end_date'},inplace=True)\n",
    "#drop unnecessary columns\n",
    "trips.drop([\"member_casual\", \"rideable_type\"], axis=1, inplace=True)\n",
    "#split date columns\n",
    "\n",
    "# df['start_year'] = df['datetime'].apply(lambda x: x.split()[0].split('-')[0])\n",
    "# df['start_year'] = df['datetime'].apply(lambda x: x.split()[0].split('-')[0])\n",
    "\n",
    "trips['start_month'] = trips['start_date'].apply(lambda x: x.split()[0].split('-')[1])\n",
    "trips['end_month'] = trips['end_date'].apply(lambda x: x.split()[0].split('-')[1])\n",
    "\n",
    "trips['start_day'] = trips['start_date'].apply(lambda x: x.split()[0].split('-')[2])\n",
    "trips['end_day'] = trips['end_date'].apply(lambda x: x.split()[0].split('-')[2])\n",
    "\n",
    "trips['start_hour'] = trips['start_date'].apply(lambda x: x.split()[1].split(':')[0])\n",
    "trips['end_hour'] = trips['end_date'].apply(lambda x: x.split()[1].split(':')[0])\n",
    "\n",
    "trips['start_minute'] = trips['start_date'].apply(lambda x: x.split()[1].split(':')[1])\n",
    "trips['end_minute'] = trips['end_date'].apply(lambda x: x.split()[1].split(':')[1])\n",
    "\n",
    "trips['start_second'] = trips['start_date'].apply(lambda x: x.split()[1].split(':')[2])\n",
    "trips['end_second'] = trips['end_date'].apply(lambda x: x.split()[1].split(':')[2])\n",
    "\n",
    "#print head,types,..\n",
    "print(f\"info:{trips.info()}\")\n",
    "trips.head()"
   ]
  },
  {
   "cell_type": "markdown",
   "metadata": {},
   "source": [
    "##### 2 - Exploratory Data Analysis(EDA)"
   ]
  },
  {
   "cell_type": "markdown",
   "metadata": {},
   "source": [
    "- Data visualization\n"
   ]
  },
  {
   "cell_type": "code",
   "execution_count": 4,
   "metadata": {},
   "outputs": [
    {
     "data": {
      "text/plain": [
       "<Axes: xlabel='index', ylabel='trips_per_hour'>"
      ]
     },
     "execution_count": 4,
     "metadata": {},
     "output_type": "execute_result"
    },
    {
     "data": {
      "image/png": "[encoded data removed]",
      "text/plain": [
       "<Figure size 2000x600 with 1 Axes>"
      ]
     },
     "metadata": {},
     "output_type": "display_data"
    }
   ],
   "source": [
    "#trips per hour in a month\n",
    "sns.set(rc={'figure.figsize':(20,6)})\n",
    "\n",
    "trips[\"start_date\"] = pd.to_datetime(trips[\"start_date\"], format=\"%Y-%m-%d %H:%M:%S\")\n",
    "trips[\"end_date\"] = pd.to_datetime(trips[\"end_date\"], format=\"%Y-%m-%d %H:%M:%S\")\n",
    "\n",
    "start_date = datetime.strptime(\"2020-04-01 00:00:30\", \"%Y-%m-%d %H:%M:%S\")\n",
    "end_date = datetime.strptime(\"2020-05-01 00:00:00\", \"%Y-%m-%d %H:%M:%S\")\n",
    "interval = timedelta(minutes=60)\n",
    "bucket_elements = []\n",
    "while start_date <= end_date:\n",
    "    bucket_elements.append(trips[((start_date + interval) >= trips[\"end_date\"])\n",
    "                                & (start_date <= trips[\"end_date\"])].shape[0])\n",
    "    start_date += interval\n",
    "\n",
    "sns.scatterplot(x=\"index\", y=\"trips_per_hour\", data=pd.DataFrame(bucket_elements, columns=[\"trips_per_hour\"]).reset_index())"
   ]
  },
  {
   "cell_type": "code",
   "execution_count": 5,
   "metadata": {},
   "outputs": [
    {
     "data": {
      "image/png": "[encoded data removed]",
      "text/plain": [
       "<Figure size 2000x600 with 1 Axes>"
      ]
     },
     "metadata": {},
     "output_type": "display_data"
    }
   ],
   "source": [
    "#Histogram of Number of Stations with a certain number of Arrivals+Departures in a Week\n",
    "trips['start_date'] = pd.to_datetime(trips['start_date'])\n",
    "trips['end_date'] = pd.to_datetime(trips['end_date'])\n",
    "\n",
    "trips['arrivals_departures'] = trips.groupby('start_station_id')['start_date'].transform('count') + trips.groupby('end_station_id')['end_date'].transform('count')\n",
    "trips['week'] = trips['start_date'].dt.to_period('W')\n",
    "\n",
    "weekly_counts = trips.groupby(['week', 'start_station_id']).size().reset_index(name='counts')\n",
    "monthly_average = weekly_counts.groupby('start_station_id')['counts'].mean().reset_index(name='average_counts')\n",
    "counts = monthly_average['average_counts']\n",
    "bins = np.arange(counts.min(), counts.max() + 2)  \n",
    "plt.hist(counts, bins=bins, color='blue', edgecolor='black')\n",
    "plt.xlabel('Arrivals+Departures')\n",
    "plt.ylabel('Number of Stations')\n",
    "plt.title('Histogram of Number of Stations with a certain number of Arrivals+Departures in a Week')\n",
    "plt.show()"
   ]
  },
  {
   "cell_type": "markdown",
   "metadata": {},
   "source": [
    "#### The histogram effectively depicts the distribution of bike stations based on the number of arrivals and departures during a week. The analysis indicates that most bike stations have minimal activity or relatively lower numbers of incoming and outgoing trips. On the other hand, only a small fraction of stations experiences significantly higher trip counts."
   ]
  },
  {
   "cell_type": "markdown",
   "metadata": {},
   "source": [
    "- trends"
   ]
  },
  {
   "cell_type": "code",
   "execution_count": 6,
   "metadata": {},
   "outputs": [
    {
     "data": {
      "image/png": "[encoded data removed]",
      "text/plain": [
       "<Figure size 2000x600 with 1 Axes>"
      ]
     },
     "metadata": {},
     "output_type": "display_data"
    }
   ],
   "source": [
    "#creating monthly,yearly,daily,weekly plots and visuals\n",
    "#weekly\n",
    "trips['start_date'] = pd.to_datetime(trips['start_date'])\n",
    "trips['weekday'] = trips['start_date'].dt.strftime('%A')\n",
    "trips_by_weekday = trips.groupby('weekday').size()\n",
    "\n",
    "weekdays_order = ['Monday', 'Tuesday', 'Wednesday', 'Thursday', 'Friday', 'Saturday', 'Sunday']\n",
    "trips_by_weekday = trips_by_weekday.reindex(weekdays_order)\n",
    "\n",
    "weekdays_trips = trips_by_weekday.loc['Monday':'Friday']\n",
    "weekends_trips = trips_by_weekday.loc['Saturday':'Sunday']\n",
    "\n",
    "plt.bar(weekdays_trips.index, weekdays_trips, label='Weekdays', color='lightblue')\n",
    "plt.bar(weekends_trips.index, weekends_trips, label='Weekends', color='lightgreen')\n",
    "plt.xlabel('Day of the Week')\n",
    "plt.ylabel('Number of Trips')\n",
    "plt.title('Distribution of Trips by Day of the Week')\n",
    "plt.legend()\n",
    "plt.show()\n"
   ]
  },
  {
   "cell_type": "markdown",
   "metadata": {},
   "source": [
    "#### The bar plot effectively illustrates the distribution of bike trips based on the day of the week over a three-month period. The data analysis reveals distinct patterns in bike-sharing demand, with higher usage during weekends (Saturday and Sunday) and Tuesday, and moderate demand on weekdays (Monday, Thursday, and Friday)."
   ]
  },
  {
   "cell_type": "code",
   "execution_count": 7,
   "metadata": {},
   "outputs": [
    {
     "data": {
      "image/png": "[encoded data removed]",
      "text/plain": [
       "<Figure size 2000x600 with 1 Axes>"
      ]
     },
     "metadata": {},
     "output_type": "display_data"
    }
   ],
   "source": [
    "#working days vs weekend\n",
    "bar_width = 0.2 \n",
    "working_days_trips = weekdays_trips.sum()\n",
    "weekend_trips = weekends_trips.sum()\n",
    "plt.bar(['Working Days', 'Weekends'], [working_days_trips, weekend_trips], color=['lightblue', 'lightgreen'], width=0.2)\n",
    "plt.xlabel('Category')\n",
    "plt.ylabel('Number of Trips')\n",
    "plt.title('Number of Trips on Working Days vs Weekends')\n",
    "plt.show()\n"
   ]
  },
  {
   "cell_type": "markdown",
   "metadata": {},
   "source": [
    "#### The bar plot effectively highlights the difference in bike-sharing demand between working days and weekends. The analysis indicates that bike trips are more frequent and popular on working days due to higher commuting and daily transportation requirements. On the other hand, bike-sharing experiences reduced usage during weekends when recreational activities and reduced work commitments are more prevalent."
   ]
  },
  {
   "cell_type": "code",
   "execution_count": 8,
   "metadata": {},
   "outputs": [
    {
     "data": {
      "image/png": "[encoded data removed]",
      "text/plain": [
       "<Figure size 2000x600 with 1 Axes>"
      ]
     },
     "metadata": {},
     "output_type": "display_data"
    }
   ],
   "source": [
    "#daily\n",
    "hourly_counts = trips.groupby('start_hour').size()\n",
    "hours = range(1,25)\n",
    "plt.plot(hours, hourly_counts, marker='o')\n",
    "plt.xlabel('Hour')\n",
    "plt.ylabel('Number of Trips')\n",
    "plt.title('Number of Trips by Hour in a Day')\n",
    "plt.xticks(range(1,25))\n",
    "plt.show()"
   ]
  },
  {
   "cell_type": "markdown",
   "metadata": {},
   "source": [
    "####  The line plot effectively illustrates the temporal distribution of bike trips throughout the day. The data analysis showcases distinctive trends in bike-sharing demand during different hours, with significant peaks observed during the morning and evening rush hours."
   ]
  },
  {
   "cell_type": "markdown",
   "metadata": {},
   "source": [
    "- Data analysis"
   ]
  },
  {
   "cell_type": "code",
   "execution_count": 9,
   "metadata": {},
   "outputs": [],
   "source": [
    "#TODO discover patterns and relationships"
   ]
  },
  {
   "cell_type": "markdown",
   "metadata": {},
   "source": [
    "##### 3 - Data Preprocessing"
   ]
  },
  {
   "cell_type": "markdown",
   "metadata": {},
   "source": [
    "- Outlier analysis\n"
   ]
  },
  {
   "cell_type": "code",
   "execution_count": 10,
   "metadata": {},
   "outputs": [],
   "source": [
    "#TODO discover outliers and decide to remove or not"
   ]
  },
  {
   "cell_type": "markdown",
   "metadata": {},
   "source": [
    "- Data cleaning"
   ]
  },
  {
   "cell_type": "code",
   "execution_count": 11,
   "metadata": {},
   "outputs": [
    {
     "name": "stdout",
     "output_type": "stream",
     "text": [
      "<class 'pandas.core.frame.DataFrame'>\n",
      "RangeIndex: 84776 entries, 0 to 84775\n",
      "Data columns (total 24 columns):\n",
      " #   Column               Non-Null Count  Dtype         \n",
      "---  ------               --------------  -----         \n",
      " 0   id                   84776 non-null  object        \n",
      " 1   start_date           84776 non-null  datetime64[ns]\n",
      " 2   end_date             84776 non-null  datetime64[ns]\n",
      " 3   start_station_name   84776 non-null  object        \n",
      " 4   start_station_id     84776 non-null  int64         \n",
      " 5   end_station_name     84677 non-null  object        \n",
      " 6   end_station_id       84677 non-null  float64       \n",
      " 7   start_lat            84776 non-null  float64       \n",
      " 8   start_lng            84776 non-null  float64       \n",
      " 9   end_lat              84677 non-null  float64       \n",
      " 10  end_lng              84677 non-null  float64       \n",
      " 11  start_month          84776 non-null  object        \n",
      " 12  end_month            84776 non-null  object        \n",
      " 13  start_day            84776 non-null  object        \n",
      " 14  end_day              84776 non-null  object        \n",
      " 15  start_hour           84776 non-null  object        \n",
      " 16  end_hour             84776 non-null  object        \n",
      " 17  start_minute         84776 non-null  object        \n",
      " 18  end_minute           84776 non-null  object        \n",
      " 19  start_second         84776 non-null  object        \n",
      " 20  end_second           84776 non-null  object        \n",
      " 21  arrivals_departures  84677 non-null  float64       \n",
      " 22  week                 84776 non-null  period[W-SUN] \n",
      " 23  weekday              84776 non-null  object        \n",
      "dtypes: datetime64[ns](2), float64(6), int64(1), object(14), period[W-SUN](1)\n",
      "memory usage: 15.5+ MB\n",
      "None\n"
     ]
    }
   ],
   "source": [
    "#type casting & type checking\n",
    "print(trips.info())\n"
   ]
  },
  {
   "cell_type": "code",
   "execution_count": 12,
   "metadata": {},
   "outputs": [
    {
     "data": {
      "text/plain": [
       "0"
      ]
     },
     "execution_count": 12,
     "metadata": {},
     "output_type": "execute_result"
    }
   ],
   "source": [
    "#duplicate checking\n",
    "trips.duplicated().sum()"
   ]
  },
  {
   "cell_type": "code",
   "execution_count": 13,
   "metadata": {},
   "outputs": [
    {
     "name": "stdout",
     "output_type": "stream",
     "text": [
      "id                      0\n",
      "start_date              0\n",
      "end_date                0\n",
      "start_station_name      0\n",
      "start_station_id        0\n",
      "end_station_name       99\n",
      "end_station_id         99\n",
      "start_lat               0\n",
      "start_lng               0\n",
      "end_lat                99\n",
      "end_lng                99\n",
      "start_month             0\n",
      "end_month               0\n",
      "start_day               0\n",
      "end_day                 0\n",
      "start_hour              0\n",
      "end_hour                0\n",
      "start_minute            0\n",
      "end_minute              0\n",
      "start_second            0\n",
      "end_second              0\n",
      "arrivals_departures    99\n",
      "week                    0\n",
      "weekday                 0\n",
      "dtype: int64\n"
     ]
    }
   ],
   "source": [
    "#missing & null value checking \n",
    "print(trips.isnull().sum())\n",
    "trips.dropna(axis=0, how='any', inplace=True)\n"
   ]
  },
  {
   "cell_type": "code",
   "execution_count": 14,
   "metadata": {},
   "outputs": [
    {
     "data": {
      "text/plain": [
       "id                     0\n",
       "start_date             0\n",
       "end_date               0\n",
       "start_station_name     0\n",
       "start_station_id       0\n",
       "end_station_name       0\n",
       "end_station_id         0\n",
       "start_lat              0\n",
       "start_lng              0\n",
       "end_lat                0\n",
       "end_lng                0\n",
       "start_month            0\n",
       "end_month              0\n",
       "start_day              0\n",
       "end_day                0\n",
       "start_hour             0\n",
       "end_hour               0\n",
       "start_minute           0\n",
       "end_minute             0\n",
       "start_second           0\n",
       "end_second             0\n",
       "arrivals_departures    0\n",
       "week                   0\n",
       "weekday                0\n",
       "dtype: int64"
      ]
     },
     "execution_count": 14,
     "metadata": {},
     "output_type": "execute_result"
    }
   ],
   "source": [
    "trips.isnull().sum()"
   ]
  },
  {
   "cell_type": "markdown",
   "metadata": {},
   "source": [
    "- Feature scaling \n"
   ]
  },
  {
   "cell_type": "code",
   "execution_count": 15,
   "metadata": {},
   "outputs": [],
   "source": [
    "#mapping the start & end station_ids \n",
    "locations = trips['start_station_id'].unique()\n",
    "new_ids = list(range(len(locations)))\n",
    "mapping = dict(zip(locations, new_ids))\n",
    "trips['start_station_id'] = trips['start_station_id'].map(mapping)\n",
    "trips['end_station_id'] = trips['end_station_id'].map(mapping)"
   ]
  },
  {
   "cell_type": "markdown",
   "metadata": {},
   "source": [
    "##### 4 - Graph Creation\n"
   ]
  },
  {
   "cell_type": "markdown",
   "metadata": {},
   "source": [
    "- Node features"
   ]
  },
  {
   "cell_type": "code",
   "execution_count": 16,
   "metadata": {},
   "outputs": [
    {
     "name": "stdout",
     "output_type": "stream",
     "text": [
      "Full shape:  (603, 2)\n"
     ]
    },
    {
     "data": {
      "text/plain": [
       "array([[0.26      , 0.26203807],\n",
       "       [0.09647059, 0.09742441],\n",
       "       [0.47647059, 0.44008959],\n",
       "       [0.20941176, 0.22732363],\n",
       "       [0.18823529, 0.16797312],\n",
       "       [0.46588235, 0.40761478],\n",
       "       [0.23647059, 0.17581187],\n",
       "       [0.11058824, 0.0862262 ],\n",
       "       [0.34705882, 0.32698768],\n",
       "       [0.06470588, 0.06942889]])"
      ]
     },
     "execution_count": 16,
     "metadata": {},
     "output_type": "execute_result"
    }
   ],
   "source": [
    "#considering the incoming & outgoing trips features of every node\n",
    "outgoing_trips = trips.groupby(\"start_station_id\").count()[\"id\"].values\n",
    "incoming_trips = trips.groupby(\"end_station_id\").count()[\"id\"].values\n",
    "\n",
    "all_station_ids = set(trips[\"start_station_id\"].unique()) | set(trips[\"end_station_id\"].unique())\n",
    "\n",
    "outgoing_trips = np.pad(outgoing_trips, (0, len(all_station_ids) - len(outgoing_trips)), mode='constant')\n",
    "incoming_trips = np.pad(incoming_trips, (0, len(all_station_ids) - len(incoming_trips)), mode='constant')\n",
    "\n",
    "outgoing_trips = (outgoing_trips - np.min(outgoing_trips)) / (np.max(outgoing_trips) - np.min(outgoing_trips))\n",
    "incoming_trips = (incoming_trips - np.min(incoming_trips)) / (np.max(incoming_trips) - np.min(incoming_trips))\n",
    "\n",
    "node_features = np.stack([outgoing_trips, incoming_trips]).transpose()\n",
    "print(\"Full shape: \", node_features.shape)\n",
    "node_features[:10]\n"
   ]
  },
  {
   "cell_type": "markdown",
   "metadata": {},
   "source": [
    "- Edge feature"
   ]
  },
  {
   "cell_type": "code",
   "execution_count": 17,
   "metadata": {},
   "outputs": [
    {
     "data": {
      "text/html": [
       "<div>\n",
       "<style scoped>\n",
       "    .dataframe tbody tr th:only-of-type {\n",
       "        vertical-align: middle;\n",
       "    }\n",
       "\n",
       "    .dataframe tbody tr th {\n",
       "        vertical-align: top;\n",
       "    }\n",
       "\n",
       "    .dataframe thead th {\n",
       "        text-align: right;\n",
       "    }\n",
       "</style>\n",
       "<table border=\"1\" class=\"dataframe\">\n",
       "  <thead>\n",
       "    <tr style=\"text-align: right;\">\n",
       "      <th></th>\n",
       "      <th>id</th>\n",
       "      <th>start_date</th>\n",
       "      <th>end_date</th>\n",
       "      <th>start_station_name</th>\n",
       "      <th>start_station_id</th>\n",
       "      <th>end_station_name</th>\n",
       "      <th>end_station_id</th>\n",
       "      <th>start_lat</th>\n",
       "      <th>start_lng</th>\n",
       "      <th>end_lat</th>\n",
       "      <th>...</th>\n",
       "      <th>start_hour</th>\n",
       "      <th>end_hour</th>\n",
       "      <th>start_minute</th>\n",
       "      <th>end_minute</th>\n",
       "      <th>start_second</th>\n",
       "      <th>end_second</th>\n",
       "      <th>arrivals_departures</th>\n",
       "      <th>week</th>\n",
       "      <th>weekday</th>\n",
       "      <th>duration</th>\n",
       "    </tr>\n",
       "  </thead>\n",
       "  <tbody>\n",
       "    <tr>\n",
       "      <th>0</th>\n",
       "      <td>A847FADBBC638E45</td>\n",
       "      <td>2020-04-26 17:45:14</td>\n",
       "      <td>2020-04-26 18:12:03</td>\n",
       "      <td>Eckhart Park</td>\n",
       "      <td>0</td>\n",
       "      <td>Lincoln Ave &amp; Diversey Pkwy</td>\n",
       "      <td>179.0</td>\n",
       "      <td>41.8964</td>\n",
       "      <td>-87.6610</td>\n",
       "      <td>41.9322</td>\n",
       "      <td>...</td>\n",
       "      <td>17</td>\n",
       "      <td>18</td>\n",
       "      <td>45</td>\n",
       "      <td>12</td>\n",
       "      <td>14</td>\n",
       "      <td>03</td>\n",
       "      <td>426.0</td>\n",
       "      <td>2020-04-20/2020-04-26</td>\n",
       "      <td>Sunday</td>\n",
       "      <td>26.816667</td>\n",
       "    </tr>\n",
       "    <tr>\n",
       "      <th>1</th>\n",
       "      <td>5405B80E996FF60D</td>\n",
       "      <td>2020-04-17 17:08:54</td>\n",
       "      <td>2020-04-17 17:17:03</td>\n",
       "      <td>Drake Ave &amp; Fullerton Ave</td>\n",
       "      <td>1</td>\n",
       "      <td>Kosciuszko Park</td>\n",
       "      <td>249.0</td>\n",
       "      <td>41.9244</td>\n",
       "      <td>-87.7154</td>\n",
       "      <td>41.9306</td>\n",
       "      <td>...</td>\n",
       "      <td>17</td>\n",
       "      <td>17</td>\n",
       "      <td>08</td>\n",
       "      <td>17</td>\n",
       "      <td>54</td>\n",
       "      <td>03</td>\n",
       "      <td>166.0</td>\n",
       "      <td>2020-04-13/2020-04-19</td>\n",
       "      <td>Friday</td>\n",
       "      <td>8.150000</td>\n",
       "    </tr>\n",
       "    <tr>\n",
       "      <th>2</th>\n",
       "      <td>5DD24A79A4E006F4</td>\n",
       "      <td>2020-04-01 17:54:13</td>\n",
       "      <td>2020-04-01 18:08:36</td>\n",
       "      <td>McClurg Ct &amp; Erie St</td>\n",
       "      <td>2</td>\n",
       "      <td>Indiana Ave &amp; Roosevelt Rd</td>\n",
       "      <td>113.0</td>\n",
       "      <td>41.8945</td>\n",
       "      <td>-87.6179</td>\n",
       "      <td>41.8679</td>\n",
       "      <td>...</td>\n",
       "      <td>17</td>\n",
       "      <td>18</td>\n",
       "      <td>54</td>\n",
       "      <td>08</td>\n",
       "      <td>13</td>\n",
       "      <td>36</td>\n",
       "      <td>958.0</td>\n",
       "      <td>2020-03-30/2020-04-05</td>\n",
       "      <td>Wednesday</td>\n",
       "      <td>14.383333</td>\n",
       "    </tr>\n",
       "    <tr>\n",
       "      <th>3</th>\n",
       "      <td>2A59BBDF5CDBA725</td>\n",
       "      <td>2020-04-07 12:50:19</td>\n",
       "      <td>2020-04-07 13:02:31</td>\n",
       "      <td>California Ave &amp; Division St</td>\n",
       "      <td>3</td>\n",
       "      <td>Wood St &amp; Augusta Blvd</td>\n",
       "      <td>69.0</td>\n",
       "      <td>41.9030</td>\n",
       "      <td>-87.6975</td>\n",
       "      <td>41.8992</td>\n",
       "      <td>...</td>\n",
       "      <td>12</td>\n",
       "      <td>13</td>\n",
       "      <td>50</td>\n",
       "      <td>02</td>\n",
       "      <td>19</td>\n",
       "      <td>31</td>\n",
       "      <td>424.0</td>\n",
       "      <td>2020-04-06/2020-04-12</td>\n",
       "      <td>Tuesday</td>\n",
       "      <td>12.200000</td>\n",
       "    </tr>\n",
       "    <tr>\n",
       "      <th>4</th>\n",
       "      <td>27AD306C119C6158</td>\n",
       "      <td>2020-04-18 10:22:59</td>\n",
       "      <td>2020-04-18 11:15:54</td>\n",
       "      <td>Rush St &amp; Hubbard St</td>\n",
       "      <td>4</td>\n",
       "      <td>Sheridan Rd &amp; Lawrence Ave</td>\n",
       "      <td>358.0</td>\n",
       "      <td>41.8902</td>\n",
       "      <td>-87.6262</td>\n",
       "      <td>41.9695</td>\n",
       "      <td>...</td>\n",
       "      <td>10</td>\n",
       "      <td>11</td>\n",
       "      <td>22</td>\n",
       "      <td>15</td>\n",
       "      <td>59</td>\n",
       "      <td>54</td>\n",
       "      <td>291.0</td>\n",
       "      <td>2020-04-13/2020-04-19</td>\n",
       "      <td>Saturday</td>\n",
       "      <td>52.916667</td>\n",
       "    </tr>\n",
       "  </tbody>\n",
       "</table>\n",
       "<p>5 rows × 25 columns</p>\n",
       "</div>"
      ],
      "text/plain": [
       "                 id          start_date            end_date  \\\n",
       "0  A847FADBBC638E45 2020-04-26 17:45:14 2020-04-26 18:12:03   \n",
       "1  5405B80E996FF60D 2020-04-17 17:08:54 2020-04-17 17:17:03   \n",
       "2  5DD24A79A4E006F4 2020-04-01 17:54:13 2020-04-01 18:08:36   \n",
       "3  2A59BBDF5CDBA725 2020-04-07 12:50:19 2020-04-07 13:02:31   \n",
       "4  27AD306C119C6158 2020-04-18 10:22:59 2020-04-18 11:15:54   \n",
       "\n",
       "             start_station_name  start_station_id  \\\n",
       "0                  Eckhart Park                 0   \n",
       "1     Drake Ave & Fullerton Ave                 1   \n",
       "2          McClurg Ct & Erie St                 2   \n",
       "3  California Ave & Division St                 3   \n",
       "4          Rush St & Hubbard St                 4   \n",
       "\n",
       "              end_station_name  end_station_id  start_lat  start_lng  end_lat  \\\n",
       "0  Lincoln Ave & Diversey Pkwy           179.0    41.8964   -87.6610  41.9322   \n",
       "1              Kosciuszko Park           249.0    41.9244   -87.7154  41.9306   \n",
       "2   Indiana Ave & Roosevelt Rd           113.0    41.8945   -87.6179  41.8679   \n",
       "3       Wood St & Augusta Blvd            69.0    41.9030   -87.6975  41.8992   \n",
       "4   Sheridan Rd & Lawrence Ave           358.0    41.8902   -87.6262  41.9695   \n",
       "\n",
       "   ...  start_hour end_hour start_minute end_minute start_second end_second  \\\n",
       "0  ...          17       18           45         12           14         03   \n",
       "1  ...          17       17           08         17           54         03   \n",
       "2  ...          17       18           54         08           13         36   \n",
       "3  ...          12       13           50         02           19         31   \n",
       "4  ...          10       11           22         15           59         54   \n",
       "\n",
       "  arrivals_departures                   week    weekday   duration  \n",
       "0               426.0  2020-04-20/2020-04-26     Sunday  26.816667  \n",
       "1               166.0  2020-04-13/2020-04-19     Friday   8.150000  \n",
       "2               958.0  2020-03-30/2020-04-05  Wednesday  14.383333  \n",
       "3               424.0  2020-04-06/2020-04-12    Tuesday  12.200000  \n",
       "4               291.0  2020-04-13/2020-04-19   Saturday  52.916667  \n",
       "\n",
       "[5 rows x 25 columns]"
      ]
     },
     "execution_count": 17,
     "metadata": {},
     "output_type": "execute_result"
    }
   ],
   "source": [
    "#considering trip duration as edge feature\n",
    "trips['duration'] = (trips['end_date'] - trips['start_date']).dt.total_seconds() / 60.0\n",
    "trips.head()"
   ]
  },
  {
   "cell_type": "markdown",
   "metadata": {},
   "source": [
    "- Edge creation"
   ]
  },
  {
   "cell_type": "code",
   "execution_count": 18,
   "metadata": {},
   "outputs": [],
   "source": [
    "subset = [\"start_lng\", \"start_lat\", \"start_station_id\"]\n",
    "all_starts = trips.drop_duplicates(subset=\"start_station_id\", keep=\"first\")[subset]\n",
    "\n",
    "subset = [\"end_lng\", \"end_lat\", \"end_station_id\"]\n",
    "all_ends = trips.drop_duplicates(subset=\"end_station_id\", keep=\"first\")[subset]\n",
    "distance_matrix = all_ends.merge(all_starts, how=\"cross\")\n",
    "distance_matrix[\"distance\"] = distance_matrix.apply(lambda x: geodesic((x[\"start_lat\"], x[\"start_lng\"]), \n",
    "                                                        (x[\"end_lat\"], x[\"end_lng\"])).meters, axis=1)\n",
    "#considering a specific treshhold\n",
    "distance_matrix[\"edge\"] = distance_matrix[\"distance\"] < 500"
   ]
  },
  {
   "cell_type": "markdown",
   "metadata": {},
   "source": [
    "- Static & dynamic edges"
   ]
  },
  {
   "cell_type": "code",
   "execution_count": 19,
   "metadata": {},
   "outputs": [],
   "source": [
    "edge_index = distance_matrix[distance_matrix[\"edge\"] == True][[\"start_station_id\", \"end_station_id\"]].values\n",
    "edge_index = edge_index.transpose()\n",
    "\n",
    "distance_feature = distance_matrix[distance_matrix[\"edge\"] == True][\"distance\"].values\n",
    "edge_type_feature = np.zeros_like(distance_feature)\n",
    "trip_duration_feature = np.zeros_like(distance_feature) \n",
    "static_edge_features = np.stack([distance_feature, edge_type_feature, trip_duration_feature]).transpose()\n",
    "\n",
    "def extract_dynamic_edges(s):\n",
    "\n",
    "    trip_indices = s[[\"start_station_id\", \"end_station_id\"]].values\n",
    "    trip_durations = s[\"duration\"]\n",
    "\n",
    "    distance_feature  = pd.DataFrame(trip_indices, \n",
    "                                    columns=[\"start_station_id\", \"end_station_id\"]).merge(\n",
    "                                        distance_matrix, on=[\"start_station_id\", \"end_station_id\"], \n",
    "                                        how=\"left\")[\"distance\"].values\n",
    "    edge_type_feature = np.ones_like(distance_feature) \n",
    "    trip_duration_feature = trip_durations\n",
    "    edge_features = np.stack([distance_feature, edge_type_feature, trip_duration_feature]).transpose()\n",
    "    return edge_features, trip_indices.transpose()"
   ]
  },
  {
   "cell_type": "markdown",
   "metadata": {},
   "source": [
    "- Graph creation"
   ]
  },
  {
   "cell_type": "code",
   "execution_count": 20,
   "metadata": {},
   "outputs": [],
   "source": [
    "start_date = datetime.strptime(\"2020-04-01 00:00:30\", \"%Y-%m-%d %H:%M:%S\")\n",
    "end_date = datetime.strptime(\"2020-05-01 00:00:00\", \"%Y-%m-%d %H:%M:%S\")\n",
    "interval = timedelta(minutes=60)\n",
    "\n",
    "xs = []\n",
    "edge_indices = []\n",
    "ys = []\n",
    "y_indices = []\n",
    "edge_features = []\n",
    "\n",
    "\n",
    "while start_date <= end_date:\n",
    "    # 0 - 60 min \n",
    "    current_snapshot = trips[((start_date + interval) >= trips[\"end_date\"])\n",
    "                                & (start_date <= trips[\"end_date\"])]\n",
    "    # 60 - 120 min\n",
    "    subsequent_snapshot = trips[((start_date + 2*interval) >= trips[\"end_date\"])\n",
    "                                & (start_date + interval <= trips[\"end_date\"])]\n",
    "\n",
    "\n",
    "    current_snapshot = current_snapshot.groupby([\"start_station_id\", \"end_station_id\"]).mean().reset_index()\n",
    "    subsequent_snapshot = subsequent_snapshot.groupby([\"start_station_id\", \"end_station_id\"]).mean().reset_index()\n",
    "\n",
    "    edge_feats, additional_edge_index = extract_dynamic_edges(current_snapshot)\n",
    "    exteneded_edge_index = np.concatenate([edge_index, additional_edge_index], axis=1)\n",
    "    extended_edge_feats = np.concatenate([edge_feats, static_edge_features], axis=0)\n",
    "\n",
    "\n",
    "    y = subsequent_snapshot[\"duration\"].values\n",
    "    y_index = subsequent_snapshot[[\"start_station_id\", \"end_station_id\"]].values\n",
    "\n",
    "    xs.append(node_features) \n",
    "    edge_indices.append(exteneded_edge_index)\n",
    "    edge_features.append(extended_edge_feats)\n",
    "    ys.append(y) \n",
    "    y_indices.append(y_index.transpose())\n",
    "\n",
    "    start_date += interval"
   ]
  },
  {
   "cell_type": "code",
   "execution_count": 21,
   "metadata": {},
   "outputs": [
    {
     "name": "stdout",
     "output_type": "stream",
     "text": [
      "Example of graph snapshot 4: \n",
      "\n",
      "      Node feature shape: (603, 2) \n",
      "\n",
      "      Edge index shape: (2, 1946) \n",
      "\n",
      "      Edge feature shape: (1946, 3) \n",
      " \n",
      "      Labels shape: (13,) \n",
      "\n",
      "      Labels mask shape: (2, 13)\n",
      "      \n"
     ]
    }
   ],
   "source": [
    "i = 4\n",
    "print(f\"\"\"Example of graph snapshot {i}: \\n\n",
    "      Node feature shape: {xs[i].shape} \\n\n",
    "      Edge index shape: {edge_indices[i].shape} \\n\n",
    "      Edge feature shape: {edge_features[i].shape} \\n \n",
    "      Labels shape: {ys[i].shape} \\n\n",
    "      Labels mask shape: {y_indices[i].shape}\n",
    "      \"\"\")"
   ]
  },
  {
   "cell_type": "code",
   "execution_count": 22,
   "metadata": {},
   "outputs": [],
   "source": [
    "from torch_geometric_temporal.signal import DynamicGraphTemporalSignal\n",
    "dataset = DynamicGraphTemporalSignal(\n",
    "            edge_indices, edge_features, xs, ys, y_indices=y_indices\n",
    "        )"
   ]
  },
  {
   "cell_type": "code",
   "execution_count": 23,
   "metadata": {},
   "outputs": [
    {
     "data": {
      "text/plain": [
       "Data(x=[603, 2], edge_index=[2, 1946], edge_attr=[1946, 3], y=[13], y_indices=[2, 13])"
      ]
     },
     "execution_count": 23,
     "metadata": {},
     "output_type": "execute_result"
    }
   ],
   "source": [
    "i = 4\n",
    "dataset[i]"
   ]
  },
  {
   "cell_type": "markdown",
   "metadata": {},
   "source": [
    "##### 5 - Train & Test Split \n"
   ]
  },
  {
   "cell_type": "code",
   "execution_count": 24,
   "metadata": {},
   "outputs": [],
   "source": [
    "#TODO create a Train and Test (maybe use other months or generally other data)"
   ]
  },
  {
   "cell_type": "markdown",
   "metadata": {},
   "source": [
    "##### 6 - Optimization\n"
   ]
  },
  {
   "cell_type": "markdown",
   "metadata": {},
   "source": [
    "- Dimensionality reduction\n"
   ]
  },
  {
   "cell_type": "code",
   "execution_count": 25,
   "metadata": {},
   "outputs": [],
   "source": [
    "#TODO dimensionality reduction using PCA"
   ]
  },
  {
   "cell_type": "markdown",
   "metadata": {},
   "source": [
    "- hyperparameter optimization"
   ]
  },
  {
   "cell_type": "code",
   "execution_count": 26,
   "metadata": {},
   "outputs": [],
   "source": [
    "#TODO hyperparameter optimizing"
   ]
  },
  {
   "cell_type": "markdown",
   "metadata": {},
   "source": [
    "##### 7 - Model Development\n"
   ]
  },
  {
   "cell_type": "code",
   "execution_count": 27,
   "metadata": {},
   "outputs": [],
   "source": [
    "#TODO introduce different models with including RNN and GNN models such as:\n",
    "#\"Graph Recurrent Neural Networks (GraphRNN)\",\"Graph Attention Network (GAT)\",\"Graph Convolutional Network (GCN)\",\"Vanilla RNN (Recurrent Neural Network)\",\"LSTM (Long Short-Term Memory)\",\"Bidirectional RNN\"\n",
    "#TODO train different models introduces above"
   ]
  },
  {
   "cell_type": "markdown",
   "metadata": {},
   "source": [
    "##### 8 - Cross Validation Prediction\n"
   ]
  },
  {
   "cell_type": "code",
   "execution_count": 28,
   "metadata": {},
   "outputs": [],
   "source": [
    "#TODO CV prediction for all the models"
   ]
  },
  {
   "cell_type": "markdown",
   "metadata": {},
   "source": [
    "##### 9 - Models Performances\n"
   ]
  },
  {
   "cell_type": "markdown",
   "metadata": {},
   "source": [
    "- Optimization impacts on models\n"
   ]
  },
  {
   "cell_type": "code",
   "execution_count": 29,
   "metadata": {},
   "outputs": [],
   "source": [
    "#TODO compare the performances with & without PCA"
   ]
  },
  {
   "cell_type": "markdown",
   "metadata": {},
   "source": [
    "- Models comparison\n"
   ]
  },
  {
   "cell_type": "code",
   "execution_count": 30,
   "metadata": {},
   "outputs": [],
   "source": [
    "#TODO compare different models performances"
   ]
  },
  {
   "cell_type": "markdown",
   "metadata": {},
   "source": [
    "##### 10 - Model Evaluation Metrics\n"
   ]
  },
  {
   "cell_type": "code",
   "execution_count": 31,
   "metadata": {},
   "outputs": [],
   "source": [
    "#TODO R-squared score\n",
    "#TODO Root mean square error\n",
    "#TODO Mean absolute error"
   ]
  },
  {
   "cell_type": "markdown",
   "metadata": {},
   "source": [
    "##### 11 - Conclusion "
   ]
  },
  {
   "cell_type": "code",
   "execution_count": 32,
   "metadata": {},
   "outputs": [],
   "source": [
    "#TODO Choosing best model"
   ]
  }
 ],
 "metadata": {
  "kernelspec": {
   "display_name": "Python 3",
   "language": "python",
   "name": "python3"
  },
  "language_info": {
   "codemirror_mode": {
    "name": "ipython",
    "version": 3
   },
   "file_extension": ".py",
   "mimetype": "text/x-python",
   "name": "python",
   "nbconvert_exporter": "python",
   "pygments_lexer": "ipython3",
   "version": "3.10.12"
  },
  "orig_nbformat": 4
 },
 "nbformat": 4,
 "nbformat_minor": 2
}
