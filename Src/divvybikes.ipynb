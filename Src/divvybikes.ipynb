{
 "cells": [
  {
   "cell_type": "code",
   "execution_count": 1,
   "metadata": {},
   "outputs": [],
   "source": [
    "import pandas as pd\n",
    "import numpy as np\n",
    "from sklearn.utils.extmath import cartesian\n",
    "from geopy.distance import geodesic\n",
    "import matplotlib.pyplot as plt"
   ]
  },
  {
   "cell_type": "code",
   "execution_count": 2,
   "metadata": {},
   "outputs": [],
   "source": [
    "def preprocess_trips(trips_df):\n",
    "\n",
    "    trips_df.dropna(inplace=True)\n",
    "\n",
    "    locations = trips_df['start_station_id'].unique()\n",
    "    new_ids = list(range(len(locations)))\n",
    "    mapping = dict(zip(locations, new_ids))\n",
    "    \n",
    "    trips_df['start_station_id'] = trips_df['start_station_id'].map(mapping)\n",
    "    trips_df['end_station_id'] = trips_df['end_station_id'].map(mapping)\n",
    "\n",
    "    trips_df[\"started_at\"] = pd.to_datetime(trips_df[\"started_at\"], format=\"%Y-%m-%d %H:%M:%S\")\n",
    "    trips_df[\"ended_at\"] = pd.to_datetime(trips_df[\"ended_at\"], format=\"%Y-%m-%d %H:%M:%S\")\n",
    "    \n",
    "    trips['tripduration'] = (trips['ended_at'] - trips['started_at']).dt.total_seconds() / 60.0\n",
    "\n",
    "    cols_to_drop = [\"member_casual\", \"rideable_type\", ]\n",
    "    trips_df.drop(cols_to_drop, axis=1, inplace=True)\n",
    "\n",
    "    trips_df = trips.sort_values(by=\"started_at\")\n",
    "    \n",
    "    return trips_df"
   ]
  },
  {
   "cell_type": "code",
   "execution_count": 3,
   "metadata": {},
   "outputs": [
    {
     "data": {
      "text/html": [
       "<div>\n",
       "<style scoped>\n",
       "    .dataframe tbody tr th:only-of-type {\n",
       "        vertical-align: middle;\n",
       "    }\n",
       "\n",
       "    .dataframe tbody tr th {\n",
       "        vertical-align: top;\n",
       "    }\n",
       "\n",
       "    .dataframe thead th {\n",
       "        text-align: right;\n",
       "    }\n",
       "</style>\n",
       "<table border=\"1\" class=\"dataframe\">\n",
       "  <thead>\n",
       "    <tr style=\"text-align: right;\">\n",
       "      <th></th>\n",
       "      <th>ride_id</th>\n",
       "      <th>started_at</th>\n",
       "      <th>ended_at</th>\n",
       "      <th>start_station_name</th>\n",
       "      <th>start_station_id</th>\n",
       "      <th>end_station_name</th>\n",
       "      <th>end_station_id</th>\n",
       "      <th>start_lat</th>\n",
       "      <th>start_lng</th>\n",
       "      <th>end_lat</th>\n",
       "      <th>end_lng</th>\n",
       "      <th>tripduration</th>\n",
       "    </tr>\n",
       "  </thead>\n",
       "  <tbody>\n",
       "    <tr>\n",
       "      <th>74346</th>\n",
       "      <td>5DB63F4E4EB6A9CF</td>\n",
       "      <td>2020-04-01 00:00:30</td>\n",
       "      <td>2020-04-01 00:23:03</td>\n",
       "      <td>Damen Ave &amp; Wellington Ave</td>\n",
       "      <td>513</td>\n",
       "      <td>Pine Grove Ave &amp; Waveland Ave</td>\n",
       "      <td>260.0</td>\n",
       "      <td>41.9359</td>\n",
       "      <td>-87.6784</td>\n",
       "      <td>41.9493</td>\n",
       "      <td>-87.6463</td>\n",
       "      <td>22.550000</td>\n",
       "    </tr>\n",
       "    <tr>\n",
       "      <th>46139</th>\n",
       "      <td>1FD159E93F7BAFA1</td>\n",
       "      <td>2020-04-01 00:02:35</td>\n",
       "      <td>2020-04-01 00:10:45</td>\n",
       "      <td>Wabash Ave &amp; 16th St</td>\n",
       "      <td>56</td>\n",
       "      <td>Wabash Ave &amp; 9th St</td>\n",
       "      <td>12.0</td>\n",
       "      <td>41.8604</td>\n",
       "      <td>-87.6258</td>\n",
       "      <td>41.8708</td>\n",
       "      <td>-87.6257</td>\n",
       "      <td>8.166667</td>\n",
       "    </tr>\n",
       "    <tr>\n",
       "      <th>17735</th>\n",
       "      <td>6D93A270684EC452</td>\n",
       "      <td>2020-04-01 00:02:41</td>\n",
       "      <td>2020-04-01 00:24:20</td>\n",
       "      <td>Damen Ave &amp; Wellington Ave</td>\n",
       "      <td>513</td>\n",
       "      <td>Spaulding Ave &amp; Armitage Ave</td>\n",
       "      <td>418.0</td>\n",
       "      <td>41.9359</td>\n",
       "      <td>-87.6784</td>\n",
       "      <td>41.9171</td>\n",
       "      <td>-87.7102</td>\n",
       "      <td>21.650000</td>\n",
       "    </tr>\n",
       "    <tr>\n",
       "      <th>53075</th>\n",
       "      <td>091D47E4F0FC5022</td>\n",
       "      <td>2020-04-01 00:06:44</td>\n",
       "      <td>2020-04-01 00:14:01</td>\n",
       "      <td>Mies van der Rohe Way &amp; Chicago Ave</td>\n",
       "      <td>5</td>\n",
       "      <td>Clark St &amp; Schiller St</td>\n",
       "      <td>192.0</td>\n",
       "      <td>41.8969</td>\n",
       "      <td>-87.6217</td>\n",
       "      <td>41.9080</td>\n",
       "      <td>-87.6315</td>\n",
       "      <td>7.283333</td>\n",
       "    </tr>\n",
       "    <tr>\n",
       "      <th>46138</th>\n",
       "      <td>07F785C9DDA3404C</td>\n",
       "      <td>2020-04-01 00:11:18</td>\n",
       "      <td>2020-04-01 00:11:51</td>\n",
       "      <td>Wabash Ave &amp; 9th St</td>\n",
       "      <td>12</td>\n",
       "      <td>Wabash Ave &amp; 9th St</td>\n",
       "      <td>12.0</td>\n",
       "      <td>41.8708</td>\n",
       "      <td>-87.6257</td>\n",
       "      <td>41.8708</td>\n",
       "      <td>-87.6257</td>\n",
       "      <td>0.550000</td>\n",
       "    </tr>\n",
       "    <tr>\n",
       "      <th>...</th>\n",
       "      <td>...</td>\n",
       "      <td>...</td>\n",
       "      <td>...</td>\n",
       "      <td>...</td>\n",
       "      <td>...</td>\n",
       "      <td>...</td>\n",
       "      <td>...</td>\n",
       "      <td>...</td>\n",
       "      <td>...</td>\n",
       "      <td>...</td>\n",
       "      <td>...</td>\n",
       "      <td>...</td>\n",
       "    </tr>\n",
       "    <tr>\n",
       "      <th>80628</th>\n",
       "      <td>042ED7E4DB510E06</td>\n",
       "      <td>2020-04-30 23:46:32</td>\n",
       "      <td>2020-04-30 23:53:36</td>\n",
       "      <td>Dearborn St &amp; Monroe St</td>\n",
       "      <td>372</td>\n",
       "      <td>Wabash Ave &amp; Grand Ave</td>\n",
       "      <td>141.0</td>\n",
       "      <td>41.8813</td>\n",
       "      <td>-87.6295</td>\n",
       "      <td>41.8915</td>\n",
       "      <td>-87.6268</td>\n",
       "      <td>7.066667</td>\n",
       "    </tr>\n",
       "    <tr>\n",
       "      <th>47438</th>\n",
       "      <td>7CE956F2ADAB70E7</td>\n",
       "      <td>2020-04-30 23:52:12</td>\n",
       "      <td>2020-04-30 23:58:28</td>\n",
       "      <td>Sheffield Ave &amp; Waveland Ave</td>\n",
       "      <td>160</td>\n",
       "      <td>Clark St &amp; Grace St</td>\n",
       "      <td>41.0</td>\n",
       "      <td>41.9494</td>\n",
       "      <td>-87.6545</td>\n",
       "      <td>41.9508</td>\n",
       "      <td>-87.6592</td>\n",
       "      <td>6.266667</td>\n",
       "    </tr>\n",
       "    <tr>\n",
       "      <th>2970</th>\n",
       "      <td>7DD8DE9332472655</td>\n",
       "      <td>2020-04-30 23:54:57</td>\n",
       "      <td>2020-05-01 00:28:29</td>\n",
       "      <td>Sheffield Ave &amp; Webster Ave</td>\n",
       "      <td>340</td>\n",
       "      <td>Sheffield Ave &amp; Webster Ave</td>\n",
       "      <td>340.0</td>\n",
       "      <td>41.9215</td>\n",
       "      <td>-87.6538</td>\n",
       "      <td>41.9215</td>\n",
       "      <td>-87.6538</td>\n",
       "      <td>33.533333</td>\n",
       "    </tr>\n",
       "    <tr>\n",
       "      <th>47103</th>\n",
       "      <td>3F2515CBB67A52E2</td>\n",
       "      <td>2020-04-30 23:57:13</td>\n",
       "      <td>2020-05-01 00:12:08</td>\n",
       "      <td>California Ave &amp; Altgeld St</td>\n",
       "      <td>411</td>\n",
       "      <td>Southport Ave &amp; Clybourn Ave</td>\n",
       "      <td>211.0</td>\n",
       "      <td>41.9267</td>\n",
       "      <td>-87.6977</td>\n",
       "      <td>41.9208</td>\n",
       "      <td>-87.6637</td>\n",
       "      <td>14.916667</td>\n",
       "    </tr>\n",
       "    <tr>\n",
       "      <th>53089</th>\n",
       "      <td>BDEF00853BBEFD29</td>\n",
       "      <td>2020-04-30 23:57:20</td>\n",
       "      <td>2020-05-01 00:12:12</td>\n",
       "      <td>California Ave &amp; Altgeld St</td>\n",
       "      <td>411</td>\n",
       "      <td>Southport Ave &amp; Clybourn Ave</td>\n",
       "      <td>211.0</td>\n",
       "      <td>41.9267</td>\n",
       "      <td>-87.6977</td>\n",
       "      <td>41.9208</td>\n",
       "      <td>-87.6637</td>\n",
       "      <td>14.866667</td>\n",
       "    </tr>\n",
       "  </tbody>\n",
       "</table>\n",
       "<p>84677 rows × 12 columns</p>\n",
       "</div>"
      ],
      "text/plain": [
       "                ride_id          started_at            ended_at  \\\n",
       "74346  5DB63F4E4EB6A9CF 2020-04-01 00:00:30 2020-04-01 00:23:03   \n",
       "46139  1FD159E93F7BAFA1 2020-04-01 00:02:35 2020-04-01 00:10:45   \n",
       "17735  6D93A270684EC452 2020-04-01 00:02:41 2020-04-01 00:24:20   \n",
       "53075  091D47E4F0FC5022 2020-04-01 00:06:44 2020-04-01 00:14:01   \n",
       "46138  07F785C9DDA3404C 2020-04-01 00:11:18 2020-04-01 00:11:51   \n",
       "...                 ...                 ...                 ...   \n",
       "80628  042ED7E4DB510E06 2020-04-30 23:46:32 2020-04-30 23:53:36   \n",
       "47438  7CE956F2ADAB70E7 2020-04-30 23:52:12 2020-04-30 23:58:28   \n",
       "2970   7DD8DE9332472655 2020-04-30 23:54:57 2020-05-01 00:28:29   \n",
       "47103  3F2515CBB67A52E2 2020-04-30 23:57:13 2020-05-01 00:12:08   \n",
       "53089  BDEF00853BBEFD29 2020-04-30 23:57:20 2020-05-01 00:12:12   \n",
       "\n",
       "                        start_station_name  start_station_id  \\\n",
       "74346           Damen Ave & Wellington Ave               513   \n",
       "46139                 Wabash Ave & 16th St                56   \n",
       "17735           Damen Ave & Wellington Ave               513   \n",
       "53075  Mies van der Rohe Way & Chicago Ave                 5   \n",
       "46138                  Wabash Ave & 9th St                12   \n",
       "...                                    ...               ...   \n",
       "80628              Dearborn St & Monroe St               372   \n",
       "47438         Sheffield Ave & Waveland Ave               160   \n",
       "2970           Sheffield Ave & Webster Ave               340   \n",
       "47103          California Ave & Altgeld St               411   \n",
       "53089          California Ave & Altgeld St               411   \n",
       "\n",
       "                    end_station_name  end_station_id  start_lat  start_lng  \\\n",
       "74346  Pine Grove Ave & Waveland Ave           260.0    41.9359   -87.6784   \n",
       "46139            Wabash Ave & 9th St            12.0    41.8604   -87.6258   \n",
       "17735   Spaulding Ave & Armitage Ave           418.0    41.9359   -87.6784   \n",
       "53075         Clark St & Schiller St           192.0    41.8969   -87.6217   \n",
       "46138            Wabash Ave & 9th St            12.0    41.8708   -87.6257   \n",
       "...                              ...             ...        ...        ...   \n",
       "80628         Wabash Ave & Grand Ave           141.0    41.8813   -87.6295   \n",
       "47438            Clark St & Grace St            41.0    41.9494   -87.6545   \n",
       "2970     Sheffield Ave & Webster Ave           340.0    41.9215   -87.6538   \n",
       "47103   Southport Ave & Clybourn Ave           211.0    41.9267   -87.6977   \n",
       "53089   Southport Ave & Clybourn Ave           211.0    41.9267   -87.6977   \n",
       "\n",
       "       end_lat  end_lng  tripduration  \n",
       "74346  41.9493 -87.6463     22.550000  \n",
       "46139  41.8708 -87.6257      8.166667  \n",
       "17735  41.9171 -87.7102     21.650000  \n",
       "53075  41.9080 -87.6315      7.283333  \n",
       "46138  41.8708 -87.6257      0.550000  \n",
       "...        ...      ...           ...  \n",
       "80628  41.8915 -87.6268      7.066667  \n",
       "47438  41.9508 -87.6592      6.266667  \n",
       "2970   41.9215 -87.6538     33.533333  \n",
       "47103  41.9208 -87.6637     14.916667  \n",
       "53089  41.9208 -87.6637     14.866667  \n",
       "\n",
       "[84677 rows x 12 columns]"
      ]
     },
     "execution_count": 3,
     "metadata": {},
     "output_type": "execute_result"
    }
   ],
   "source": [
    "trips = pd.read_csv(\"../Data/divvybikes-data/divvybikes-test.csv\")\n",
    "preprocess_trips(trips)"
   ]
  },
  {
   "cell_type": "markdown",
   "metadata": {},
   "source": [
    "trips['started_at'] = pd.to_datetime(trips['started_at'])\n",
    "trips['ended_at'] = pd.to_datetime(trips['ended_at'])\n",
    "trips['tripduration'] = (trips['ended_at'] - trips['started_at']).dt.total_seconds() / 60.0\n",
    "\n",
    "#trips.head()\n"
   ]
  },
  {
   "cell_type": "markdown",
   "metadata": {},
   "source": [
    "cols_to_drop = [\"member_casual\", \"rideable_type\", ]\n",
    "trips.dropna(inplace=True)\n",
    "trips.drop(cols_to_drop, axis=1, inplace=True)\n",
    "#trips.head()"
   ]
  },
  {
   "cell_type": "markdown",
   "metadata": {},
   "source": [
    "locations = trips['start_station_id'].unique()\n",
    "new_ids = list(range(len(trips['start_station_id'].unique())))\n",
    "mapping = dict(zip(locations, new_ids))\n",
    "\n",
    "trips['start_station_id'] = trips['start_station_id'].map(mapping)\n",
    "trips['end_station_id'] = trips['end_station_id'].map(mapping)\n",
    "#trips.head()"
   ]
  },
  {
   "cell_type": "markdown",
   "metadata": {},
   "source": [
    "trips = trips.sort_values(by=\"started_at\")\n",
    "#trips.head()"
   ]
  },
  {
   "cell_type": "code",
   "execution_count": 4,
   "metadata": {},
   "outputs": [
    {
     "data": {
      "text/plain": [
       "<Axes: xlabel='index', ylabel='trips_per_hour'>"
      ]
     },
     "execution_count": 4,
     "metadata": {},
     "output_type": "execute_result"
    },
    {
     "data": {
      "image/png": "[encoded data removed]",
      "text/plain": [
       "<Figure size 2000x600 with 1 Axes>"
      ]
     },
     "metadata": {},
     "output_type": "display_data"
    }
   ],
   "source": [
    "from datetime import datetime, timedelta\n",
    "import seaborn as sns\n",
    "sns.set(rc={'figure.figsize':(20,6)})\n",
    "\n",
    "trips[\"started_at\"] = pd.to_datetime(trips[\"started_at\"], format=\"%Y-%m-%d %H:%M:%S\")\n",
    "trips[\"ended_at\"] = pd.to_datetime(trips[\"ended_at\"], format=\"%Y-%m-%d %H:%M:%S\")\n",
    "\n",
    "start_date = datetime.strptime(\"2020-04-01 00:00:30\", \"%Y-%m-%d %H:%M:%S\")\n",
    "end_date = datetime.strptime(\"2020-05-01 00:00:00\", \"%Y-%m-%d %H:%M:%S\")\n",
    "interval = timedelta(minutes=60)\n",
    "bucket_elements = []\n",
    "while start_date <= end_date:\n",
    "    bucket_elements.append(trips[((start_date + interval) >= trips[\"ended_at\"])\n",
    "                                & (start_date <= trips[\"ended_at\"])].shape[0])\n",
    "    start_date += interval\n",
    "\n",
    "sns.scatterplot(x=\"index\", y=\"trips_per_hour\", data=pd.DataFrame(bucket_elements, columns=[\"trips_per_hour\"]).reset_index())"
   ]
  },
  {
   "cell_type": "code",
   "execution_count": 5,
   "metadata": {},
   "outputs": [
    {
     "name": "stdout",
     "output_type": "stream",
     "text": [
      "Full shape:  (603, 2)\n"
     ]
    },
    {
     "data": {
      "text/plain": [
       "array([[0.26      , 0.26203807],\n",
       "       [0.09647059, 0.09742441],\n",
       "       [0.47647059, 0.44008959],\n",
       "       [0.20941176, 0.22732363],\n",
       "       [0.18823529, 0.16797312],\n",
       "       [0.46588235, 0.40761478],\n",
       "       [0.23647059, 0.17581187],\n",
       "       [0.11058824, 0.0862262 ],\n",
       "       [0.34705882, 0.32698768],\n",
       "       [0.06470588, 0.06942889]])"
      ]
     },
     "execution_count": 5,
     "metadata": {},
     "output_type": "execute_result"
    }
   ],
   "source": [
    "outgoing_trips = trips.groupby(\"start_station_id\").count()[\"ride_id\"].values\n",
    "incoming_trips = trips.groupby(\"end_station_id\").count()[\"ride_id\"].values\n",
    "\n",
    "all_station_ids = set(trips[\"start_station_id\"].unique()) | set(trips[\"end_station_id\"].unique())\n",
    "\n",
    "outgoing_trips = np.pad(outgoing_trips, (0, len(all_station_ids) - len(outgoing_trips)), mode='constant')\n",
    "incoming_trips = np.pad(incoming_trips, (0, len(all_station_ids) - len(incoming_trips)), mode='constant')\n",
    "\n",
    "outgoing_trips = (outgoing_trips - np.min(outgoing_trips)) / (np.max(outgoing_trips) - np.min(outgoing_trips))\n",
    "incoming_trips = (incoming_trips - np.min(incoming_trips)) / (np.max(incoming_trips) - np.min(incoming_trips))\n",
    "\n",
    "node_features = np.stack([outgoing_trips, incoming_trips]).transpose()\n",
    "print(\"Full shape: \", node_features.shape)\n",
    "node_features[:10]"
   ]
  },
  {
   "cell_type": "code",
   "execution_count": 6,
   "metadata": {},
   "outputs": [],
   "source": [
    "\n",
    "subset = [\"start_lng\", \"start_lat\", \"start_station_id\"]\n",
    "all_starts = trips.drop_duplicates(subset=\"start_station_id\", keep=\"first\")[subset]\n",
    "\n",
    "subset = [\"end_lng\", \"end_lat\", \"end_station_id\"]\n",
    "all_ends = trips.drop_duplicates(subset=\"end_station_id\", keep=\"first\")[subset]\n",
    "distance_matrix = all_ends.merge(all_starts, how=\"cross\")\n",
    "distance_matrix[\"distance\"] = distance_matrix.apply(lambda x: geodesic((x[\"start_lat\"], x[\"start_lng\"]), \n",
    "                                                        (x[\"end_lat\"], x[\"end_lng\"])).meters, axis=1)\n",
    "#distance_matrix.head()"
   ]
  },
  {
   "cell_type": "code",
   "execution_count": 7,
   "metadata": {},
   "outputs": [],
   "source": [
    "distance_matrix[\"edge\"] = distance_matrix[\"distance\"] < 500\n",
    "#distance_matrix.head()"
   ]
  },
  {
   "cell_type": "code",
   "execution_count": 8,
   "metadata": {},
   "outputs": [],
   "source": [
    "edge_index = distance_matrix[distance_matrix[\"edge\"] == True][[\"start_station_id\", \"end_station_id\"]].values\n",
    "edge_index = edge_index.transpose()\n",
    "#edge_index"
   ]
  },
  {
   "cell_type": "code",
   "execution_count": 9,
   "metadata": {},
   "outputs": [],
   "source": [
    "distance_feature = distance_matrix[distance_matrix[\"edge\"] == True][\"distance\"].values\n",
    "edge_type_feature = np.zeros_like(distance_feature)\n",
    "trip_duration_feature = np.zeros_like(distance_feature) \n",
    "static_edge_features = np.stack([distance_feature, edge_type_feature, trip_duration_feature]).transpose()\n",
    "#static_edge_features"
   ]
  },
  {
   "cell_type": "code",
   "execution_count": 10,
   "metadata": {},
   "outputs": [],
   "source": [
    "def extract_dynamic_edges(s):\n",
    "\n",
    "    trip_indices = s[[\"start_station_id\", \"end_station_id\"]].values\n",
    "    trip_durations = s[\"tripduration\"]\n",
    "\n",
    "    distance_feature  = pd.DataFrame(trip_indices, \n",
    "                                    columns=[\"start_station_id\", \"end_station_id\"]).merge(\n",
    "                                        distance_matrix, on=[\"start_station_id\", \"end_station_id\"], \n",
    "                                        how=\"left\")[\"distance\"].values\n",
    "    edge_type_feature = np.ones_like(distance_feature) \n",
    "    trip_duration_feature = trip_durations\n",
    "    edge_features = np.stack([distance_feature, edge_type_feature, trip_duration_feature]).transpose()\n",
    "    return edge_features, trip_indices.transpose()"
   ]
  },
  {
   "cell_type": "code",
   "execution_count": 11,
   "metadata": {},
   "outputs": [],
   "source": [
    "start_date = datetime.strptime(\"2020-04-01 00:00:30\", \"%Y-%m-%d %H:%M:%S\")\n",
    "end_date = datetime.strptime(\"2020-05-01 00:00:00\", \"%Y-%m-%d %H:%M:%S\")\n",
    "interval = timedelta(minutes=60)\n",
    "\n",
    "xs = []\n",
    "edge_indices = []\n",
    "ys = []\n",
    "y_indices = []\n",
    "edge_features = []\n",
    "\n",
    "\n",
    "while start_date <= end_date:\n",
    "    # 0 - 60 min \n",
    "    current_snapshot = trips[((start_date + interval) >= trips[\"ended_at\"])\n",
    "                                & (start_date <= trips[\"ended_at\"])]\n",
    "    # 60 - 120 min\n",
    "    subsequent_snapshot = trips[((start_date + 2*interval) >= trips[\"ended_at\"])\n",
    "                                & (start_date + interval <= trips[\"ended_at\"])]\n",
    "\n",
    "\n",
    "    current_snapshot = current_snapshot.groupby([\"start_station_id\", \"end_station_id\"]).mean().reset_index()\n",
    "    subsequent_snapshot = subsequent_snapshot.groupby([\"start_station_id\", \"end_station_id\"]).mean().reset_index()\n",
    "\n",
    "    edge_feats, additional_edge_index = extract_dynamic_edges(current_snapshot)\n",
    "    exteneded_edge_index = np.concatenate([edge_index, additional_edge_index], axis=1)\n",
    "    extended_edge_feats = np.concatenate([edge_feats, static_edge_features], axis=0)\n",
    "\n",
    "\n",
    "    y = subsequent_snapshot[\"tripduration\"].values\n",
    "    y_index = subsequent_snapshot[[\"start_station_id\", \"end_station_id\"]].values\n",
    "\n",
    "    xs.append(node_features) \n",
    "    edge_indices.append(exteneded_edge_index)\n",
    "    edge_features.append(extended_edge_feats)\n",
    "    ys.append(y) \n",
    "    y_indices.append(y_index.transpose())\n",
    "\n",
    "    start_date += interval"
   ]
  },
  {
   "cell_type": "code",
   "execution_count": 109,
   "metadata": {},
   "outputs": [
    {
     "name": "stdout",
     "output_type": "stream",
     "text": [
      "Example of graph snapshot 3: \n",
      "\n",
      "      Node feature shape: (603, 2) \n",
      "\n",
      "      Edge index shape: (2, 1945) \n",
      "\n",
      "      Edge feature shape: (1945, 3) \n",
      " \n",
      "      Labels shape: (4,) \n",
      "\n",
      "      Labels mask shape: (2, 4)\n",
      "      \n"
     ]
    }
   ],
   "source": [
    "i = 3\n",
    "print(f\"\"\"Example of graph snapshot {i}: \\n\n",
    "      Node feature shape: {xs[i].shape} \\n\n",
    "      Edge index shape: {edge_indices[i].shape} \\n\n",
    "      Edge feature shape: {edge_features[i].shape} \\n \n",
    "      Labels shape: {ys[i].shape} \\n\n",
    "      Labels mask shape: {y_indices[i].shape}\n",
    "      \"\"\")"
   ]
  },
  {
   "cell_type": "code",
   "execution_count": 110,
   "metadata": {},
   "outputs": [],
   "source": [
    "from torch_geometric_temporal.signal import DynamicGraphTemporalSignal\n",
    "dataset = DynamicGraphTemporalSignal(\n",
    "            edge_indices, edge_features, xs, ys, y_indices=y_indices\n",
    "        )"
   ]
  },
  {
   "cell_type": "markdown",
   "metadata": {},
   "source": [
    "##### Statical reports"
   ]
  },
  {
   "cell_type": "code",
   "execution_count": 112,
   "metadata": {},
   "outputs": [],
   "source": [
    "time_step = 3\n",
    "graph_at_t = dataset[time_step]\n",
    "edge_indices_t = graph_at_t.edge_index\n",
    "edge_features_t = graph_at_t.edge_attr\n",
    "node_features_t = graph_at_t.x"
   ]
  },
  {
   "cell_type": "code",
   "execution_count": 140,
   "metadata": {},
   "outputs": [
    {
     "name": "stdout",
     "output_type": "stream",
     "text": [
      "Data(x=[603, 2], edge_index=[2, 1945], edge_attr=[1945, 3], y=[4], y_indices=[2, 4])\n",
      "tensor([[ 40, 179, 303,  ..., 144, 294, 430],\n",
      "        [179, 179, 179,  ..., 383, 151, 430]])\n",
      "torch.Size([1945, 3])\n",
      "torch.Size([603, 2])\n"
     ]
    }
   ],
   "source": [
    "print(graph_at_t)\n",
    "\n",
    "print(edge_indices_t)\n",
    "\n",
    "print(edge_features_t.shape)\n",
    "\n",
    "print(node_features_t.shape)\n",
    "\n"
   ]
  },
  {
   "cell_type": "code",
   "execution_count": 145,
   "metadata": {},
   "outputs": [
    {
     "data": {
      "image/png": "[encoded data removed]",
      "text/plain": [
       "<Figure size 1000x600 with 1 Axes>"
      ]
     },
     "metadata": {},
     "output_type": "display_data"
    }
   ],
   "source": [
    "import matplotlib.pyplot as plt\n",
    "\n",
    "# Assuming you have the data in the DynamicGraphTemporalSignal object called 'dataset'\n",
    "\n",
    "# Get the number of snapshots in the dataset\n",
    "num_snapshots = dataset.snapshot_count\n",
    "\n",
    "# Extract the weekly number of departures plus arrivals for each bike station\n",
    "weekly_departures_arrivals = []\n",
    "for time_index in range(num_snapshots):\n",
    "    node_data = dataset[time_index].y.sum(dim=0)  # Sum over the node dimension\n",
    "    weekly_sum = node_data.sum().item()\n",
    "    weekly_departures_arrivals.append(weekly_sum)\n",
    "\n",
    "# Plot the histogram\n",
    "plt.figure(figsize=(10, 6))\n",
    "plt.hist(weekly_departures_arrivals, bins=20, edgecolor='black')\n",
    "plt.xlabel('Weekly Number of Departures + Arrivals')\n",
    "plt.ylabel('Number of Bike Stations')\n",
    "plt.title('Histogram of Weekly Number of Departures + Arrivals for Bike Stations in London')\n",
    "plt.grid(True)\n",
    "plt.show()\n"
   ]
  }
 ],
 "metadata": {
  "kernelspec": {
   "display_name": "Python 3",
   "language": "python",
   "name": "python3"
  },
  "language_info": {
   "codemirror_mode": {
    "name": "ipython",
    "version": 3
   },
   "file_extension": ".py",
   "mimetype": "text/x-python",
   "name": "python",
   "nbconvert_exporter": "python",
   "pygments_lexer": "ipython3",
   "version": "3.10.12"
  },
  "orig_nbformat": 4
 },
 "nbformat": 4,
 "nbformat_minor": 2
}
